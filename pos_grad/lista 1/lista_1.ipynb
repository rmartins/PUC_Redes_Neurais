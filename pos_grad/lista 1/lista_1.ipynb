{
  "cells": [
    {
      "cell_type": "code",
      "execution_count": 1,
      "metadata": {
        "id": "BFLPSN-GxBik",
        "outputId": "77ca3b3e-343e-4165-ee29-278f44c9d83e",
        "colab": {
          "base_uri": "https://localhost:8080/"
        }
      },
      "outputs": [
        {
          "output_type": "stream",
          "name": "stdout",
          "text": [
            "Cloning into 'PUC_Redes_Neurais'...\n",
            "remote: Enumerating objects: 329, done.\u001b[K\n",
            "remote: Counting objects: 100% (49/49), done.\u001b[K\n",
            "remote: Compressing objects: 100% (9/9), done.\u001b[K\n",
            "remote: Total 329 (delta 44), reused 40 (delta 40), pack-reused 280 (from 1)\u001b[K\n",
            "Receiving objects: 100% (329/329), 4.02 MiB | 16.96 MiB/s, done.\n",
            "Resolving deltas: 100% (128/128), done.\n"
          ]
        }
      ],
      "source": [
        "colab = True\n",
        "if colab:\n",
        "    !git clone https://github.com/mdrs-thiago/PUC_Redes_Neurais\n",
        "    import os\n",
        "    os.chdir('/content/PUC_Redes_Neurais/pos_grad/lista 1')"
      ]
    },
    {
      "cell_type": "markdown",
      "metadata": {
        "id": "CkLVLEtsgPUF",
        "scrolled": true
      },
      "source": [
        "# Redes Neurais\n",
        "## 1ª Lista de Exercícios - Classificação de padrões\n",
        "\n",
        "\n",
        "Estudante:\n",
        "\n",
        "Base de dados:"
      ]
    },
    {
      "cell_type": "markdown",
      "metadata": {
        "id": "EQsSuBt1xBiq"
      },
      "source": [
        "### Para cada item da lista de exercício, não esqueça de fazer uma análise pertinente dos resultados obtidos."
      ]
    },
    {
      "cell_type": "markdown",
      "metadata": {
        "id": "e6zem9NixBiq"
      },
      "source": [
        "<h1> Importante! </h1>\n",
        "\n",
        "1. Fique atento com os hiperparâmetros iniciais desta lista. Dependendo do problema, os valores podem mudar. Para encontrar um conjunto de parâmetros razoáveis, siga o seguinte roteiro:\n",
        "\n",
        "        1. Rode os itens 2.1 e 3.1 com os parâmetros iniciais. Se os dois resultados foram igualmente ruins, modifique os parâmetros do item 3.1 até que o resultado seja relativamente melhor que o 2.1.\n",
        "\n",
        "        2. Após obter esses melhores parâmetros iniciais, rode novamente o item 2.1 com os mesmos hiperparâmetros para uma comparação mais justa.\n",
        "\n",
        "2. O resultado de um modelo de Redes Neurais geralmente depende da inicialização de seus pesos. Portanto, para cada questão, obtenha um resultado médio de pelo menos 10 rodadas."
      ]
    },
    {
      "cell_type": "code",
      "execution_count": 2,
      "metadata": {
        "id": "7SVw33VAgPUw"
      },
      "outputs": [],
      "source": [
        "import numpy as np\n",
        "import pandas as pd\n",
        "import json\n",
        "import matplotlib.pyplot as plt\n",
        "import seaborn as sns\n",
        "from time import sleep\n",
        "import requests\n",
        "\n",
        "import torch\n",
        "import torch.nn as nn\n",
        "import torch.nn.functional as F\n",
        "from torch.utils.data import DataLoader\n",
        "\n",
        "from sklearn.preprocessing import LabelEncoder\n",
        "from sklearn.model_selection import cross_val_score, KFold, train_test_split\n",
        "from sklearn.metrics import classification_report, confusion_matrix\n",
        "\n",
        "from utils import CustomDataset, transform_data, plot_confusion_matrix\n",
        "from model_utils import train\n"
      ]
    },
    {
      "cell_type": "code",
      "execution_count": 3,
      "metadata": {
        "id": "KzCC7HdqgPVF"
      },
      "outputs": [],
      "source": [
        "class NeuralNetwork(torch.nn.Module):\n",
        "  '''\n",
        "  Objeto criado para facilitar o desenvolvimento dos scripts das aulas práticas.\n",
        "  Opção alternativa à criação externa fdo modelo. Basicamente serve como um\n",
        "  'agregador'  de trechos comuns para a criação do modelo. Por exemplo, ao invés\n",
        "  de gastar n+1 linhas para a criação de um modelo com n camadas, podemos criar\n",
        "  o mesmo modelo com apenas uma linha.\n",
        "\n",
        "  Parâmetros de entrada:\n",
        "  - hidden_neurons: Lista com a quantidade de neurônios na camada escondida.\n",
        "  - hidden_activation: Função de ativação para cada camada escondida. Aceita\n",
        "  como parâmetro string ou lista. Caso o parâmetro receba string, então a mesma\n",
        "  função de ativação é utilizada para todas as camadas escondidas. Caso seja uma\n",
        "  lista, cada camada terá sua propria função de ativação definida pela lista.\n",
        "  - output_activation: Função de ativação para a camada de saída.\n",
        "  - lr: Taxa de aprendizado\n",
        "  - n_input: Tamanho do vetor de entrada.\n",
        "  - n_output: Saída do modelo.\n",
        "  '''\n",
        "  def __init__(self,hidden_neurons = 4, hidden_activation = 'relu', output_activation='softmax', lr = 0.05, n_input = 1, n_output = 1):\n",
        "    # create model\n",
        "    super(NeuralNetwork, self).__init__()\n",
        "\n",
        "    self.activations = {'relu': nn.ReLU(), 'sigmoid':nn.Sigmoid(), 'softmax':nn.Softmax()}\n",
        "\n",
        "    self.fc1 = nn.Linear(n_input, hidden_neurons)\n",
        "    self.ha = self.activations[hidden_activation]\n",
        "    self.fc2 = nn.Linear(hidden_neurons, n_output)\n",
        "    #self.out = self.activations[output_activation]\n",
        "\n",
        "    #self.out = nn.Sigmoid() #Para o caso binário\n",
        "  def forward(self,x):\n",
        "    h = self.fc1(x)\n",
        "    h1 = self.ha(h)\n",
        "    y = self.fc2(h1)\n",
        "    #y = self.out(h2)\n",
        "    return y\n",
        "\n",
        "  def predict(self, x, binary=True):\n",
        "    y_hat = self.forward(x)\n",
        "\n",
        "    if binary:\n",
        "      y_pred = torch.round(torch.sigmoid(y_hat))\n",
        "      y_pred = y_pred.detach().numpy()\n",
        "    else:\n",
        "      y_pred = torch.argmax(y_hat, dim=1)\n",
        "\n",
        "    return y_pred"
      ]
    },
    {
      "cell_type": "code",
      "execution_count": 4,
      "metadata": {
        "id": "YQQmqKvsxBis"
      },
      "outputs": [],
      "source": [
        "device = torch.device('cuda' if torch.cuda.is_available() else 'cpu')"
      ]
    },
    {
      "cell_type": "markdown",
      "metadata": {
        "id": "OK2ohgzfgPVK"
      },
      "source": [
        "# Preparação dos dados\n",
        "\n",
        "Não esqueça de verificar o path para a pasta. Mude também o filename, de acordo com a base de dados."
      ]
    },
    {
      "cell_type": "code",
      "execution_count": 5,
      "metadata": {
        "id": "XhWc8w9ygPVT"
      },
      "outputs": [],
      "source": [
        "dataset_name = 'analise_credito'\n",
        "dataset_path = f'https://raw.githubusercontent.com/mdrs-thiago/PUC_Redes_Neurais/main/datasets/c_{dataset_name}.csv'\n",
        "info_path = f'https://raw.githubusercontent.com/mdrs-thiago/PUC_Redes_Neurais/main/datasets/data_info/{dataset_name}/data_info.json'\n",
        "dataset = pd.read_csv(dataset_path)"
      ]
    },
    {
      "cell_type": "code",
      "execution_count": 6,
      "metadata": {
        "id": "D99hmJD-xBit"
      },
      "outputs": [],
      "source": [
        "resp = requests.get(info_path)\n",
        "info = json.loads(resp.text)"
      ]
    },
    {
      "cell_type": "code",
      "execution_count": 7,
      "metadata": {
        "id": "ZIu0_XqJxBiu"
      },
      "outputs": [],
      "source": [
        "for col, k in info.items():\n",
        "    if k == 'categorical':\n",
        "        dataset[col] = dataset[col].astype(object)"
      ]
    },
    {
      "cell_type": "code",
      "execution_count": 8,
      "metadata": {
        "id": "jUbljJSmxBiu",
        "outputId": "b60e8725-247e-48b9-e05e-6a8225ba0464",
        "colab": {
          "base_uri": "https://localhost:8080/"
        }
      },
      "outputs": [
        {
          "output_type": "stream",
          "name": "stdout",
          "text": [
            "('ESTC', dtype('O'))\n",
            "('NDEP', dtype('int64'))\n",
            "('RENDA', dtype('int64'))\n",
            "('TIPOR', dtype('O'))\n",
            "('VBEM', dtype('int64'))\n",
            "('NPARC', dtype('int64'))\n",
            "('VPARC', dtype('int64'))\n",
            "('TEL', dtype('O'))\n",
            "('IDADE', dtype('int64'))\n",
            "('RESMS', dtype('int64'))\n",
            "('ENTRADA', dtype('int64'))\n",
            "('target', dtype('int64'))\n"
          ]
        }
      ],
      "source": [
        "for i in dataset.dtypes.items():\n",
        "    print(i)"
      ]
    },
    {
      "cell_type": "markdown",
      "metadata": {
        "id": "wwblCYvdgPVV"
      },
      "source": [
        "## Parte I - Compreensão do problema e análise de variáveis\n",
        "\n",
        "Total: 2,0 pts.\n"
      ]
    },
    {
      "cell_type": "markdown",
      "metadata": {
        "id": "Xcmh5eH_gPVW"
      },
      "source": [
        "### 1)\tObserve a base de dados do problema. Existem variáveis que podem ser eliminadas do dataset? Justifique."
      ]
    },
    {
      "cell_type": "markdown",
      "metadata": {
        "id": "t41HM_RqgPVY"
      },
      "source": [
        "#### Rascunho"
      ]
    },
    {
      "cell_type": "code",
      "execution_count": 8,
      "metadata": {
        "id": "PMMN_pkLgPVf"
      },
      "outputs": [],
      "source": []
    },
    {
      "cell_type": "markdown",
      "metadata": {
        "id": "6DCNmE9pgPVg"
      },
      "source": [
        "#### Resposta"
      ]
    },
    {
      "cell_type": "code",
      "execution_count": 8,
      "metadata": {
        "id": "HIavGaiUgPVj"
      },
      "outputs": [],
      "source": []
    },
    {
      "cell_type": "markdown",
      "metadata": {
        "id": "2gwm8VM7gPVk"
      },
      "source": [
        "### 2)\tImplemente técnicas de visualização de dados e seleção de variáveis para extrair características importantes sobre a base de dados. Explique a motivação destas técnicas e o que é possível inferir dos resultados obtidos."
      ]
    },
    {
      "cell_type": "markdown",
      "metadata": {
        "id": "2KTMuMxigPVl"
      },
      "source": [
        "#### Rascunho"
      ]
    },
    {
      "cell_type": "code",
      "execution_count": 8,
      "metadata": {
        "id": "9MhSKzy0gPVm"
      },
      "outputs": [],
      "source": []
    },
    {
      "cell_type": "code",
      "execution_count": 8,
      "metadata": {
        "id": "ET1owKAbgPVn"
      },
      "outputs": [],
      "source": []
    },
    {
      "cell_type": "markdown",
      "metadata": {
        "id": "cXyhqHJFgPVo"
      },
      "source": [
        "#### Resposta"
      ]
    },
    {
      "cell_type": "code",
      "execution_count": 9,
      "metadata": {
        "id": "mqpGofxTgPVp",
        "scrolled": false
      },
      "outputs": [],
      "source": [
        "#sns.pairplot(dataset, hue=\"target\", diag_kind=\"hist\")"
      ]
    },
    {
      "cell_type": "markdown",
      "metadata": {
        "id": "p2qe3VzFgPVs"
      },
      "source": [
        "## Parte II. Treinamento do modelo de Rede Neural - Baseline\n",
        "\n",
        "Total: 1,0 pts."
      ]
    },
    {
      "cell_type": "markdown",
      "metadata": {
        "id": "STUb4bCjgPVt"
      },
      "source": [
        "### 1)\tCom as configurações do modelo MLP previamente definidas no script, faça o treinamento da Rede Neural sem normalizar os atributos numéricos. Comente o resultado obtido, baseado nas métricas de avaliação disponíveis (acurácia, precision, recall, F1-Score, Matriz de confusão, etc.)"
      ]
    },
    {
      "cell_type": "markdown",
      "metadata": {
        "id": "xIXkzdZfgPVu"
      },
      "source": [
        "#### Rascunho"
      ]
    },
    {
      "cell_type": "code",
      "execution_count": 10,
      "metadata": {
        "id": "eml98zS5gPVx"
      },
      "outputs": [],
      "source": [
        "new_df = transform_data(dataset, normalize=False)\n",
        "#new_df.head()"
      ]
    },
    {
      "cell_type": "code",
      "execution_count": 11,
      "metadata": {
        "id": "gwTbrvzUxBiy",
        "outputId": "9c241e67-fac2-4c55-9ab0-2506a68e6c8d",
        "colab": {
          "base_uri": "https://localhost:8080/",
          "height": 206
        }
      },
      "outputs": [
        {
          "output_type": "execute_result",
          "data": {
            "text/plain": [
              "   ESTC_0  ESTC_1  ESTC_2  ESTC_3  NDEP  RENDA  TIPOR_0  TIPOR_1  VBEM  NPARC  \\\n",
              "0       0       1       0       0     0    360        1        0   313      9   \n",
              "1       1       0       0       0     0    350        0        1   468     10   \n",
              "2       1       0       0       0     0   1100        1        0   829      9   \n",
              "3       1       0       0       0     0   3000        1        0   552     12   \n",
              "4       0       1       0       0     0   1000        1        0   809     12   \n",
              "\n",
              "   VPARC  TEL_0  TEL_1  IDADE  RESMS  ENTRADA  target  \n",
              "0     52      1      0     25     48        0       1  \n",
              "1     65      1      0     33      6        0       1  \n",
              "2    125      1      0     56     48        0       1  \n",
              "3     76      0      1     31     60        0       1  \n",
              "4    111      1      0     24      7        0       1  "
            ],
            "text/html": [
              "\n",
              "  <div id=\"df-41d06a84-89e3-428c-a0ea-119e28684066\" class=\"colab-df-container\">\n",
              "    <div>\n",
              "<style scoped>\n",
              "    .dataframe tbody tr th:only-of-type {\n",
              "        vertical-align: middle;\n",
              "    }\n",
              "\n",
              "    .dataframe tbody tr th {\n",
              "        vertical-align: top;\n",
              "    }\n",
              "\n",
              "    .dataframe thead th {\n",
              "        text-align: right;\n",
              "    }\n",
              "</style>\n",
              "<table border=\"1\" class=\"dataframe\">\n",
              "  <thead>\n",
              "    <tr style=\"text-align: right;\">\n",
              "      <th></th>\n",
              "      <th>ESTC_0</th>\n",
              "      <th>ESTC_1</th>\n",
              "      <th>ESTC_2</th>\n",
              "      <th>ESTC_3</th>\n",
              "      <th>NDEP</th>\n",
              "      <th>RENDA</th>\n",
              "      <th>TIPOR_0</th>\n",
              "      <th>TIPOR_1</th>\n",
              "      <th>VBEM</th>\n",
              "      <th>NPARC</th>\n",
              "      <th>VPARC</th>\n",
              "      <th>TEL_0</th>\n",
              "      <th>TEL_1</th>\n",
              "      <th>IDADE</th>\n",
              "      <th>RESMS</th>\n",
              "      <th>ENTRADA</th>\n",
              "      <th>target</th>\n",
              "    </tr>\n",
              "  </thead>\n",
              "  <tbody>\n",
              "    <tr>\n",
              "      <th>0</th>\n",
              "      <td>0</td>\n",
              "      <td>1</td>\n",
              "      <td>0</td>\n",
              "      <td>0</td>\n",
              "      <td>0</td>\n",
              "      <td>360</td>\n",
              "      <td>1</td>\n",
              "      <td>0</td>\n",
              "      <td>313</td>\n",
              "      <td>9</td>\n",
              "      <td>52</td>\n",
              "      <td>1</td>\n",
              "      <td>0</td>\n",
              "      <td>25</td>\n",
              "      <td>48</td>\n",
              "      <td>0</td>\n",
              "      <td>1</td>\n",
              "    </tr>\n",
              "    <tr>\n",
              "      <th>1</th>\n",
              "      <td>1</td>\n",
              "      <td>0</td>\n",
              "      <td>0</td>\n",
              "      <td>0</td>\n",
              "      <td>0</td>\n",
              "      <td>350</td>\n",
              "      <td>0</td>\n",
              "      <td>1</td>\n",
              "      <td>468</td>\n",
              "      <td>10</td>\n",
              "      <td>65</td>\n",
              "      <td>1</td>\n",
              "      <td>0</td>\n",
              "      <td>33</td>\n",
              "      <td>6</td>\n",
              "      <td>0</td>\n",
              "      <td>1</td>\n",
              "    </tr>\n",
              "    <tr>\n",
              "      <th>2</th>\n",
              "      <td>1</td>\n",
              "      <td>0</td>\n",
              "      <td>0</td>\n",
              "      <td>0</td>\n",
              "      <td>0</td>\n",
              "      <td>1100</td>\n",
              "      <td>1</td>\n",
              "      <td>0</td>\n",
              "      <td>829</td>\n",
              "      <td>9</td>\n",
              "      <td>125</td>\n",
              "      <td>1</td>\n",
              "      <td>0</td>\n",
              "      <td>56</td>\n",
              "      <td>48</td>\n",
              "      <td>0</td>\n",
              "      <td>1</td>\n",
              "    </tr>\n",
              "    <tr>\n",
              "      <th>3</th>\n",
              "      <td>1</td>\n",
              "      <td>0</td>\n",
              "      <td>0</td>\n",
              "      <td>0</td>\n",
              "      <td>0</td>\n",
              "      <td>3000</td>\n",
              "      <td>1</td>\n",
              "      <td>0</td>\n",
              "      <td>552</td>\n",
              "      <td>12</td>\n",
              "      <td>76</td>\n",
              "      <td>0</td>\n",
              "      <td>1</td>\n",
              "      <td>31</td>\n",
              "      <td>60</td>\n",
              "      <td>0</td>\n",
              "      <td>1</td>\n",
              "    </tr>\n",
              "    <tr>\n",
              "      <th>4</th>\n",
              "      <td>0</td>\n",
              "      <td>1</td>\n",
              "      <td>0</td>\n",
              "      <td>0</td>\n",
              "      <td>0</td>\n",
              "      <td>1000</td>\n",
              "      <td>1</td>\n",
              "      <td>0</td>\n",
              "      <td>809</td>\n",
              "      <td>12</td>\n",
              "      <td>111</td>\n",
              "      <td>1</td>\n",
              "      <td>0</td>\n",
              "      <td>24</td>\n",
              "      <td>7</td>\n",
              "      <td>0</td>\n",
              "      <td>1</td>\n",
              "    </tr>\n",
              "  </tbody>\n",
              "</table>\n",
              "</div>\n",
              "    <div class=\"colab-df-buttons\">\n",
              "\n",
              "  <div class=\"colab-df-container\">\n",
              "    <button class=\"colab-df-convert\" onclick=\"convertToInteractive('df-41d06a84-89e3-428c-a0ea-119e28684066')\"\n",
              "            title=\"Convert this dataframe to an interactive table.\"\n",
              "            style=\"display:none;\">\n",
              "\n",
              "  <svg xmlns=\"http://www.w3.org/2000/svg\" height=\"24px\" viewBox=\"0 -960 960 960\">\n",
              "    <path d=\"M120-120v-720h720v720H120Zm60-500h600v-160H180v160Zm220 220h160v-160H400v160Zm0 220h160v-160H400v160ZM180-400h160v-160H180v160Zm440 0h160v-160H620v160ZM180-180h160v-160H180v160Zm440 0h160v-160H620v160Z\"/>\n",
              "  </svg>\n",
              "    </button>\n",
              "\n",
              "  <style>\n",
              "    .colab-df-container {\n",
              "      display:flex;\n",
              "      gap: 12px;\n",
              "    }\n",
              "\n",
              "    .colab-df-convert {\n",
              "      background-color: #E8F0FE;\n",
              "      border: none;\n",
              "      border-radius: 50%;\n",
              "      cursor: pointer;\n",
              "      display: none;\n",
              "      fill: #1967D2;\n",
              "      height: 32px;\n",
              "      padding: 0 0 0 0;\n",
              "      width: 32px;\n",
              "    }\n",
              "\n",
              "    .colab-df-convert:hover {\n",
              "      background-color: #E2EBFA;\n",
              "      box-shadow: 0px 1px 2px rgba(60, 64, 67, 0.3), 0px 1px 3px 1px rgba(60, 64, 67, 0.15);\n",
              "      fill: #174EA6;\n",
              "    }\n",
              "\n",
              "    .colab-df-buttons div {\n",
              "      margin-bottom: 4px;\n",
              "    }\n",
              "\n",
              "    [theme=dark] .colab-df-convert {\n",
              "      background-color: #3B4455;\n",
              "      fill: #D2E3FC;\n",
              "    }\n",
              "\n",
              "    [theme=dark] .colab-df-convert:hover {\n",
              "      background-color: #434B5C;\n",
              "      box-shadow: 0px 1px 3px 1px rgba(0, 0, 0, 0.15);\n",
              "      filter: drop-shadow(0px 1px 2px rgba(0, 0, 0, 0.3));\n",
              "      fill: #FFFFFF;\n",
              "    }\n",
              "  </style>\n",
              "\n",
              "    <script>\n",
              "      const buttonEl =\n",
              "        document.querySelector('#df-41d06a84-89e3-428c-a0ea-119e28684066 button.colab-df-convert');\n",
              "      buttonEl.style.display =\n",
              "        google.colab.kernel.accessAllowed ? 'block' : 'none';\n",
              "\n",
              "      async function convertToInteractive(key) {\n",
              "        const element = document.querySelector('#df-41d06a84-89e3-428c-a0ea-119e28684066');\n",
              "        const dataTable =\n",
              "          await google.colab.kernel.invokeFunction('convertToInteractive',\n",
              "                                                    [key], {});\n",
              "        if (!dataTable) return;\n",
              "\n",
              "        const docLinkHtml = 'Like what you see? Visit the ' +\n",
              "          '<a target=\"_blank\" href=https://colab.research.google.com/notebooks/data_table.ipynb>data table notebook</a>'\n",
              "          + ' to learn more about interactive tables.';\n",
              "        element.innerHTML = '';\n",
              "        dataTable['output_type'] = 'display_data';\n",
              "        await google.colab.output.renderOutput(dataTable, element);\n",
              "        const docLink = document.createElement('div');\n",
              "        docLink.innerHTML = docLinkHtml;\n",
              "        element.appendChild(docLink);\n",
              "      }\n",
              "    </script>\n",
              "  </div>\n",
              "\n",
              "\n",
              "    <div id=\"df-56e0fb7e-e2c1-448b-a334-7ab92cc37d40\">\n",
              "      <button class=\"colab-df-quickchart\" onclick=\"quickchart('df-56e0fb7e-e2c1-448b-a334-7ab92cc37d40')\"\n",
              "                title=\"Suggest charts\"\n",
              "                style=\"display:none;\">\n",
              "\n",
              "<svg xmlns=\"http://www.w3.org/2000/svg\" height=\"24px\"viewBox=\"0 0 24 24\"\n",
              "     width=\"24px\">\n",
              "    <g>\n",
              "        <path d=\"M19 3H5c-1.1 0-2 .9-2 2v14c0 1.1.9 2 2 2h14c1.1 0 2-.9 2-2V5c0-1.1-.9-2-2-2zM9 17H7v-7h2v7zm4 0h-2V7h2v10zm4 0h-2v-4h2v4z\"/>\n",
              "    </g>\n",
              "</svg>\n",
              "      </button>\n",
              "\n",
              "<style>\n",
              "  .colab-df-quickchart {\n",
              "      --bg-color: #E8F0FE;\n",
              "      --fill-color: #1967D2;\n",
              "      --hover-bg-color: #E2EBFA;\n",
              "      --hover-fill-color: #174EA6;\n",
              "      --disabled-fill-color: #AAA;\n",
              "      --disabled-bg-color: #DDD;\n",
              "  }\n",
              "\n",
              "  [theme=dark] .colab-df-quickchart {\n",
              "      --bg-color: #3B4455;\n",
              "      --fill-color: #D2E3FC;\n",
              "      --hover-bg-color: #434B5C;\n",
              "      --hover-fill-color: #FFFFFF;\n",
              "      --disabled-bg-color: #3B4455;\n",
              "      --disabled-fill-color: #666;\n",
              "  }\n",
              "\n",
              "  .colab-df-quickchart {\n",
              "    background-color: var(--bg-color);\n",
              "    border: none;\n",
              "    border-radius: 50%;\n",
              "    cursor: pointer;\n",
              "    display: none;\n",
              "    fill: var(--fill-color);\n",
              "    height: 32px;\n",
              "    padding: 0;\n",
              "    width: 32px;\n",
              "  }\n",
              "\n",
              "  .colab-df-quickchart:hover {\n",
              "    background-color: var(--hover-bg-color);\n",
              "    box-shadow: 0 1px 2px rgba(60, 64, 67, 0.3), 0 1px 3px 1px rgba(60, 64, 67, 0.15);\n",
              "    fill: var(--button-hover-fill-color);\n",
              "  }\n",
              "\n",
              "  .colab-df-quickchart-complete:disabled,\n",
              "  .colab-df-quickchart-complete:disabled:hover {\n",
              "    background-color: var(--disabled-bg-color);\n",
              "    fill: var(--disabled-fill-color);\n",
              "    box-shadow: none;\n",
              "  }\n",
              "\n",
              "  .colab-df-spinner {\n",
              "    border: 2px solid var(--fill-color);\n",
              "    border-color: transparent;\n",
              "    border-bottom-color: var(--fill-color);\n",
              "    animation:\n",
              "      spin 1s steps(1) infinite;\n",
              "  }\n",
              "\n",
              "  @keyframes spin {\n",
              "    0% {\n",
              "      border-color: transparent;\n",
              "      border-bottom-color: var(--fill-color);\n",
              "      border-left-color: var(--fill-color);\n",
              "    }\n",
              "    20% {\n",
              "      border-color: transparent;\n",
              "      border-left-color: var(--fill-color);\n",
              "      border-top-color: var(--fill-color);\n",
              "    }\n",
              "    30% {\n",
              "      border-color: transparent;\n",
              "      border-left-color: var(--fill-color);\n",
              "      border-top-color: var(--fill-color);\n",
              "      border-right-color: var(--fill-color);\n",
              "    }\n",
              "    40% {\n",
              "      border-color: transparent;\n",
              "      border-right-color: var(--fill-color);\n",
              "      border-top-color: var(--fill-color);\n",
              "    }\n",
              "    60% {\n",
              "      border-color: transparent;\n",
              "      border-right-color: var(--fill-color);\n",
              "    }\n",
              "    80% {\n",
              "      border-color: transparent;\n",
              "      border-right-color: var(--fill-color);\n",
              "      border-bottom-color: var(--fill-color);\n",
              "    }\n",
              "    90% {\n",
              "      border-color: transparent;\n",
              "      border-bottom-color: var(--fill-color);\n",
              "    }\n",
              "  }\n",
              "</style>\n",
              "\n",
              "      <script>\n",
              "        async function quickchart(key) {\n",
              "          const quickchartButtonEl =\n",
              "            document.querySelector('#' + key + ' button');\n",
              "          quickchartButtonEl.disabled = true;  // To prevent multiple clicks.\n",
              "          quickchartButtonEl.classList.add('colab-df-spinner');\n",
              "          try {\n",
              "            const charts = await google.colab.kernel.invokeFunction(\n",
              "                'suggestCharts', [key], {});\n",
              "          } catch (error) {\n",
              "            console.error('Error during call to suggestCharts:', error);\n",
              "          }\n",
              "          quickchartButtonEl.classList.remove('colab-df-spinner');\n",
              "          quickchartButtonEl.classList.add('colab-df-quickchart-complete');\n",
              "        }\n",
              "        (() => {\n",
              "          let quickchartButtonEl =\n",
              "            document.querySelector('#df-56e0fb7e-e2c1-448b-a334-7ab92cc37d40 button');\n",
              "          quickchartButtonEl.style.display =\n",
              "            google.colab.kernel.accessAllowed ? 'block' : 'none';\n",
              "        })();\n",
              "      </script>\n",
              "    </div>\n",
              "\n",
              "    </div>\n",
              "  </div>\n"
            ],
            "application/vnd.google.colaboratory.intrinsic+json": {
              "type": "dataframe",
              "variable_name": "new_df",
              "summary": "{\n  \"name\": \"new_df\",\n  \"rows\": 1500,\n  \"fields\": [\n    {\n      \"column\": \"ESTC_0\",\n      \"properties\": {\n        \"dtype\": \"number\",\n        \"std\": 0,\n        \"min\": 0,\n        \"max\": 1,\n        \"num_unique_values\": 2,\n        \"samples\": [\n          1,\n          0\n        ],\n        \"semantic_type\": \"\",\n        \"description\": \"\"\n      }\n    },\n    {\n      \"column\": \"ESTC_1\",\n      \"properties\": {\n        \"dtype\": \"number\",\n        \"std\": 0,\n        \"min\": 0,\n        \"max\": 1,\n        \"num_unique_values\": 2,\n        \"samples\": [\n          0,\n          1\n        ],\n        \"semantic_type\": \"\",\n        \"description\": \"\"\n      }\n    },\n    {\n      \"column\": \"ESTC_2\",\n      \"properties\": {\n        \"dtype\": \"number\",\n        \"std\": 0,\n        \"min\": 0,\n        \"max\": 1,\n        \"num_unique_values\": 2,\n        \"samples\": [\n          1,\n          0\n        ],\n        \"semantic_type\": \"\",\n        \"description\": \"\"\n      }\n    },\n    {\n      \"column\": \"ESTC_3\",\n      \"properties\": {\n        \"dtype\": \"number\",\n        \"std\": 0,\n        \"min\": 0,\n        \"max\": 1,\n        \"num_unique_values\": 2,\n        \"samples\": [\n          1,\n          0\n        ],\n        \"semantic_type\": \"\",\n        \"description\": \"\"\n      }\n    },\n    {\n      \"column\": \"NDEP\",\n      \"properties\": {\n        \"dtype\": \"number\",\n        \"std\": 0,\n        \"min\": 0,\n        \"max\": 7,\n        \"num_unique_values\": 8,\n        \"samples\": [\n          2,\n          6\n        ],\n        \"semantic_type\": \"\",\n        \"description\": \"\"\n      }\n    },\n    {\n      \"column\": \"RENDA\",\n      \"properties\": {\n        \"dtype\": \"number\",\n        \"std\": 905,\n        \"min\": 300,\n        \"max\": 8000,\n        \"num_unique_values\": 516,\n        \"samples\": [\n          1317,\n          965\n        ],\n        \"semantic_type\": \"\",\n        \"description\": \"\"\n      }\n    },\n    {\n      \"column\": \"TIPOR_0\",\n      \"properties\": {\n        \"dtype\": \"number\",\n        \"std\": 0,\n        \"min\": 0,\n        \"max\": 1,\n        \"num_unique_values\": 2,\n        \"samples\": [\n          0,\n          1\n        ],\n        \"semantic_type\": \"\",\n        \"description\": \"\"\n      }\n    },\n    {\n      \"column\": \"TIPOR_1\",\n      \"properties\": {\n        \"dtype\": \"number\",\n        \"std\": 0,\n        \"min\": 0,\n        \"max\": 1,\n        \"num_unique_values\": 2,\n        \"samples\": [\n          1,\n          0\n        ],\n        \"semantic_type\": \"\",\n        \"description\": \"\"\n      }\n    },\n    {\n      \"column\": \"VBEM\",\n      \"properties\": {\n        \"dtype\": \"number\",\n        \"std\": 265,\n        \"min\": 300,\n        \"max\": 4000,\n        \"num_unique_values\": 515,\n        \"samples\": [\n          368,\n          1085\n        ],\n        \"semantic_type\": \"\",\n        \"description\": \"\"\n      }\n    },\n    {\n      \"column\": \"NPARC\",\n      \"properties\": {\n        \"dtype\": \"number\",\n        \"std\": 3,\n        \"min\": 1,\n        \"max\": 24,\n        \"num_unique_values\": 16,\n        \"samples\": [\n          9,\n          10\n        ],\n        \"semantic_type\": \"\",\n        \"description\": \"\"\n      }\n    },\n    {\n      \"column\": \"VPARC\",\n      \"properties\": {\n        \"dtype\": \"number\",\n        \"std\": 62,\n        \"min\": 50,\n        \"max\": 711,\n        \"num_unique_values\": 216,\n        \"samples\": [\n          285,\n          181\n        ],\n        \"semantic_type\": \"\",\n        \"description\": \"\"\n      }\n    },\n    {\n      \"column\": \"TEL_0\",\n      \"properties\": {\n        \"dtype\": \"number\",\n        \"std\": 0,\n        \"min\": 0,\n        \"max\": 1,\n        \"num_unique_values\": 2,\n        \"samples\": [\n          0,\n          1\n        ],\n        \"semantic_type\": \"\",\n        \"description\": \"\"\n      }\n    },\n    {\n      \"column\": \"TEL_1\",\n      \"properties\": {\n        \"dtype\": \"number\",\n        \"std\": 0,\n        \"min\": 0,\n        \"max\": 1,\n        \"num_unique_values\": 2,\n        \"samples\": [\n          1,\n          0\n        ],\n        \"semantic_type\": \"\",\n        \"description\": \"\"\n      }\n    },\n    {\n      \"column\": \"IDADE\",\n      \"properties\": {\n        \"dtype\": \"number\",\n        \"std\": 13,\n        \"min\": 19,\n        \"max\": 70,\n        \"num_unique_values\": 52,\n        \"samples\": [\n          52,\n          67\n        ],\n        \"semantic_type\": \"\",\n        \"description\": \"\"\n      }\n    },\n    {\n      \"column\": \"RESMS\",\n      \"properties\": {\n        \"dtype\": \"number\",\n        \"std\": 52,\n        \"min\": 0,\n        \"max\": 420,\n        \"num_unique_values\": 54,\n        \"samples\": [\n          5,\n          190\n        ],\n        \"semantic_type\": \"\",\n        \"description\": \"\"\n      }\n    },\n    {\n      \"column\": \"ENTRADA\",\n      \"properties\": {\n        \"dtype\": \"number\",\n        \"std\": 94,\n        \"min\": 0,\n        \"max\": 1300,\n        \"num_unique_values\": 127,\n        \"samples\": [\n          60,\n          118\n        ],\n        \"semantic_type\": \"\",\n        \"description\": \"\"\n      }\n    },\n    {\n      \"column\": \"target\",\n      \"properties\": {\n        \"dtype\": \"number\",\n        \"std\": 0,\n        \"min\": 0,\n        \"max\": 1,\n        \"num_unique_values\": 2,\n        \"samples\": [\n          0,\n          1\n        ],\n        \"semantic_type\": \"\",\n        \"description\": \"\"\n      }\n    }\n  ]\n}"
            }
          },
          "metadata": {},
          "execution_count": 11
        }
      ],
      "source": [
        "new_df.head()"
      ]
    },
    {
      "cell_type": "code",
      "execution_count": 12,
      "metadata": {
        "colab": {
          "base_uri": "https://localhost:8080/"
        },
        "id": "JQQacqWGgPVz",
        "outputId": "7ffad2e0-5793-4ca2-f5b8-af39c0d4c621"
      },
      "outputs": [
        {
          "output_type": "stream",
          "name": "stdout",
          "text": [
            "Binary classification\n"
          ]
        }
      ],
      "source": [
        "X = new_df.values[:,:-1].astype('float')\n",
        "target = new_df.values[:,-1]\n",
        "\n",
        "encoder = LabelEncoder()\n",
        "y = encoder.fit_transform(target)\n",
        "\n",
        "n_input = X.shape[1]\n",
        "\n",
        "if np.unique(y).shape[0] <= 2:\n",
        "  print('Binary classification')\n",
        "  n_output = 1\n",
        "  binary = True\n",
        "else:\n",
        "  print('Multiclass classification')\n",
        "  n_output = len(encoder.classes_)\n",
        "  binary = False\n",
        "  #y = np.eye(n_output)[y]"
      ]
    },
    {
      "cell_type": "code",
      "execution_count": 13,
      "metadata": {
        "id": "qV9Aok-ZxBiz"
      },
      "outputs": [],
      "source": [
        "batch_size = 32\n",
        "epochs = 170"
      ]
    },
    {
      "cell_type": "code",
      "execution_count": 14,
      "metadata": {
        "id": "bpOpmNongPV1"
      },
      "outputs": [],
      "source": [
        "X_train, X_test, y_train, y_test = train_test_split(X,y,test_size=0.2,random_state=42)\n",
        "X_train, X_val, y_train, y_val = train_test_split(X_train,y_train,test_size=0.2,random_state=42)"
      ]
    },
    {
      "cell_type": "code",
      "execution_count": 15,
      "metadata": {
        "id": "K8wbfI6FxBi0"
      },
      "outputs": [],
      "source": [
        "\n",
        "#Para o caso de múltiplas classes\n",
        "#train_dataset = CustomDataset(torch.from_numpy(X_train).float(), torch.from_numpy(y_train).long())\n",
        "#val_dataset = CustomDataset(torch.from_numpy(X_val).float(), torch.from_numpy(y_val).long())\n",
        "#test_dataset = CustomDataset(torch.from_numpy(X_test).float(), torch.from_numpy(y_test).long())\n",
        "\n"
      ]
    },
    {
      "cell_type": "code",
      "execution_count": 16,
      "metadata": {
        "id": "xNLEkq0CxBi0"
      },
      "outputs": [],
      "source": [
        "#Para o caso binário\n",
        "if binary:\n",
        "    train_dataset = CustomDataset(torch.from_numpy(X_train).float(), torch.from_numpy(y_train).float().unsqueeze(1))\n",
        "    val_dataset = CustomDataset(torch.from_numpy(X_val).float(), torch.from_numpy(y_val).float().unsqueeze(1))\n",
        "    test_dataset = CustomDataset(torch.from_numpy(X_test).float(), torch.from_numpy(y_test).float().unsqueeze(1))\n",
        "else:\n",
        "    train_dataset = CustomDataset(torch.from_numpy(X_train).float(), torch.from_numpy(y_train).long())\n",
        "    val_dataset = CustomDataset(torch.from_numpy(X_val).float(), torch.from_numpy(y_val).long())\n",
        "    test_dataset = CustomDataset(torch.from_numpy(X_test).float(), torch.from_numpy(y_test).long())\n",
        "\n",
        "train_loader = DataLoader(dataset=train_dataset,batch_size=batch_size)\n",
        "val_loader = DataLoader(dataset=val_dataset, batch_size=1)\n",
        "test_loader = DataLoader(dataset=test_dataset, batch_size=1)"
      ]
    },
    {
      "cell_type": "code",
      "execution_count": 17,
      "metadata": {
        "id": "-bSj2wf0xBi0",
        "outputId": "c91add6f-059b-4d3d-b462-dbcb8ff582e6",
        "colab": {
          "base_uri": "https://localhost:8080/"
        }
      },
      "outputs": [
        {
          "output_type": "execute_result",
          "data": {
            "text/plain": [
              "tensor([[  0.,   1.,   0.,  ...,  58.,   6.,   0.],\n",
              "        [  1.,   0.,   0.,  ...,  40.,   6.,   0.],\n",
              "        [  1.,   0.,   0.,  ...,  27.,   6.,   0.],\n",
              "        ...,\n",
              "        [  1.,   0.,   0.,  ...,  63.,   0., 285.],\n",
              "        [  0.,   1.,   0.,  ...,  20.,  48.,   0.],\n",
              "        [  1.,   0.,   0.,  ...,  36.,   6.,   0.]])"
            ]
          },
          "metadata": {},
          "execution_count": 17
        }
      ],
      "source": [
        "train_dataset.X_data"
      ]
    },
    {
      "cell_type": "code",
      "execution_count": 18,
      "metadata": {
        "id": "ZjQfpS6NxBi1"
      },
      "outputs": [],
      "source": [
        "model = NeuralNetwork(n_input = n_input, n_output=n_output,output_activation='sigmoid')"
      ]
    },
    {
      "cell_type": "code",
      "execution_count": 19,
      "metadata": {
        "id": "G5A2sjaCgPV5",
        "outputId": "0b08f68a-9adb-4173-bafe-8d0fe6523cf9",
        "colab": {
          "base_uri": "https://localhost:8080/",
          "height": 1000,
          "referenced_widgets": [
            "a62800798f4d4342804f59938e054b68",
            "9ede1519d7bc490aad015d741fb9db3b",
            "75042d34f54e48de9170cf5bdda86aa4",
            "a711d8e73a054cfc8559c818b9ec29ed",
            "f4a7b48c688b4b68b539d3a7fb8f287f",
            "3df96670844c4526b84c80922b0f1b8b",
            "b7bf992dc71141099c7d5e55f15e2f82",
            "8e5b2b29613d49abaa68b95f6fa7f3cb",
            "be33e6acdf8f47388aa1367dc3158944",
            "219d2426c38647f18ca89fc5e1ed5e55",
            "b4482eb1d43045cd971d3761a92c00fc"
          ]
        }
      },
      "outputs": [
        {
          "output_type": "display_data",
          "data": {
            "text/plain": [
              "  0%|          | 0/250 [00:00<?, ?it/s]"
            ],
            "application/vnd.jupyter.widget-view+json": {
              "version_major": 2,
              "version_minor": 0,
              "model_id": "a62800798f4d4342804f59938e054b68"
            }
          },
          "metadata": {}
        },
        {
          "output_type": "stream",
          "name": "stdout",
          "text": [
            "Epoch 001: | Train Loss: 1.043 | Val Loss: 0.6961 | Train Acc: 52.0667| Val Acc: 50.0000\n",
            "Epoch 002: | Train Loss: 0.693 | Val Loss: 0.6959 | Train Acc: 52.0667| Val Acc: 50.0000\n",
            "Epoch 003: | Train Loss: 0.693 | Val Loss: 0.6956 | Train Acc: 52.0667| Val Acc: 50.0000\n",
            "Epoch 004: | Train Loss: 0.693 | Val Loss: 0.6955 | Train Acc: 52.0667| Val Acc: 50.0000\n",
            "Epoch 005: | Train Loss: 0.693 | Val Loss: 0.6953 | Train Acc: 52.0667| Val Acc: 50.0000\n",
            "Epoch 006: | Train Loss: 0.693 | Val Loss: 0.6951 | Train Acc: 52.0667| Val Acc: 50.0000\n",
            "Epoch 007: | Train Loss: 0.693 | Val Loss: 0.6950 | Train Acc: 52.0667| Val Acc: 50.0000\n",
            "Epoch 008: | Train Loss: 0.693 | Val Loss: 0.6949 | Train Acc: 52.0667| Val Acc: 50.0000\n",
            "Epoch 009: | Train Loss: 0.693 | Val Loss: 0.6948 | Train Acc: 52.0667| Val Acc: 50.0000\n",
            "Epoch 010: | Train Loss: 0.693 | Val Loss: 0.6947 | Train Acc: 52.0667| Val Acc: 50.0000\n",
            "Epoch 011: | Train Loss: 0.693 | Val Loss: 0.6946 | Train Acc: 52.0667| Val Acc: 50.0000\n",
            "Epoch 012: | Train Loss: 0.693 | Val Loss: 0.6945 | Train Acc: 52.0667| Val Acc: 50.0000\n",
            "Epoch 013: | Train Loss: 0.692 | Val Loss: 0.6944 | Train Acc: 52.0667| Val Acc: 50.0000\n",
            "Epoch 014: | Train Loss: 0.692 | Val Loss: 0.6944 | Train Acc: 52.0667| Val Acc: 50.0000\n",
            "Epoch 015: | Train Loss: 0.692 | Val Loss: 0.6943 | Train Acc: 52.0667| Val Acc: 50.0000\n",
            "Epoch 016: | Train Loss: 0.692 | Val Loss: 0.6943 | Train Acc: 52.0667| Val Acc: 50.0000\n",
            "Epoch 017: | Train Loss: 0.692 | Val Loss: 0.6942 | Train Acc: 52.0667| Val Acc: 50.0000\n",
            "Epoch 018: | Train Loss: 0.692 | Val Loss: 0.6942 | Train Acc: 52.0667| Val Acc: 50.0000\n",
            "Epoch 019: | Train Loss: 0.692 | Val Loss: 0.6941 | Train Acc: 52.0667| Val Acc: 50.0000\n",
            "Epoch 020: | Train Loss: 0.692 | Val Loss: 0.6941 | Train Acc: 52.0667| Val Acc: 50.0000\n",
            "Epoch 021: | Train Loss: 0.692 | Val Loss: 0.6941 | Train Acc: 52.0667| Val Acc: 50.0000\n",
            "Epoch 022: | Train Loss: 0.692 | Val Loss: 0.6940 | Train Acc: 52.0667| Val Acc: 50.0000\n",
            "Epoch 023: | Train Loss: 0.692 | Val Loss: 0.6940 | Train Acc: 52.0667| Val Acc: 50.0000\n",
            "Epoch 024: | Train Loss: 0.692 | Val Loss: 0.6940 | Train Acc: 52.0667| Val Acc: 50.0000\n",
            "Epoch 025: | Train Loss: 0.692 | Val Loss: 0.6940 | Train Acc: 52.0667| Val Acc: 50.0000\n",
            "Epoch 026: | Train Loss: 0.692 | Val Loss: 0.6939 | Train Acc: 52.0667| Val Acc: 50.0000\n",
            "Epoch 027: | Train Loss: 0.692 | Val Loss: 0.6939 | Train Acc: 52.0667| Val Acc: 50.0000\n",
            "Epoch 028: | Train Loss: 0.692 | Val Loss: 0.6939 | Train Acc: 52.0667| Val Acc: 50.0000\n",
            "Epoch 029: | Train Loss: 0.692 | Val Loss: 0.6939 | Train Acc: 52.0667| Val Acc: 50.0000\n",
            "Epoch 030: | Train Loss: 0.692 | Val Loss: 0.6939 | Train Acc: 52.0667| Val Acc: 50.0000\n",
            "Epoch 031: | Train Loss: 0.692 | Val Loss: 0.6938 | Train Acc: 52.0667| Val Acc: 50.0000\n",
            "Epoch 032: | Train Loss: 0.692 | Val Loss: 0.6938 | Train Acc: 52.0667| Val Acc: 50.0000\n",
            "Epoch 033: | Train Loss: 0.692 | Val Loss: 0.6938 | Train Acc: 52.0667| Val Acc: 50.0000\n",
            "Epoch 034: | Train Loss: 0.692 | Val Loss: 0.6938 | Train Acc: 52.0667| Val Acc: 50.0000\n",
            "Epoch 035: | Train Loss: 0.692 | Val Loss: 0.6938 | Train Acc: 52.0667| Val Acc: 50.0000\n",
            "Epoch 036: | Train Loss: 0.692 | Val Loss: 0.6938 | Train Acc: 52.0667| Val Acc: 50.0000\n",
            "Epoch 037: | Train Loss: 0.692 | Val Loss: 0.6938 | Train Acc: 52.0667| Val Acc: 50.0000\n",
            "Epoch 038: | Train Loss: 0.692 | Val Loss: 0.6938 | Train Acc: 52.0667| Val Acc: 50.0000\n",
            "Epoch 039: | Train Loss: 0.692 | Val Loss: 0.6938 | Train Acc: 52.0667| Val Acc: 50.0000\n",
            "Epoch 040: | Train Loss: 0.692 | Val Loss: 0.6938 | Train Acc: 52.0667| Val Acc: 50.0000\n",
            "Epoch 041: | Train Loss: 0.692 | Val Loss: 0.6938 | Train Acc: 52.0667| Val Acc: 50.0000\n",
            "Epoch 042: | Train Loss: 0.692 | Val Loss: 0.6938 | Train Acc: 52.0667| Val Acc: 50.0000\n",
            "Epoch 043: | Train Loss: 0.692 | Val Loss: 0.6937 | Train Acc: 52.0667| Val Acc: 50.0000\n",
            "Epoch 044: | Train Loss: 0.692 | Val Loss: 0.6937 | Train Acc: 52.0667| Val Acc: 50.0000\n",
            "Epoch 045: | Train Loss: 0.692 | Val Loss: 0.6937 | Train Acc: 52.0667| Val Acc: 50.0000\n",
            "Epoch 046: | Train Loss: 0.692 | Val Loss: 0.6937 | Train Acc: 52.0667| Val Acc: 50.0000\n",
            "Epoch 047: | Train Loss: 0.692 | Val Loss: 0.6937 | Train Acc: 52.0667| Val Acc: 50.0000\n",
            "Epoch 048: | Train Loss: 0.692 | Val Loss: 0.6937 | Train Acc: 52.0667| Val Acc: 50.0000\n",
            "Epoch 049: | Train Loss: 0.692 | Val Loss: 0.6937 | Train Acc: 52.0667| Val Acc: 50.0000\n",
            "Epoch 050: | Train Loss: 0.692 | Val Loss: 0.6937 | Train Acc: 52.0667| Val Acc: 50.0000\n",
            "Epoch 051: | Train Loss: 0.692 | Val Loss: 0.6937 | Train Acc: 52.0667| Val Acc: 50.0000\n",
            "Epoch 052: | Train Loss: 0.692 | Val Loss: 0.6937 | Train Acc: 52.0667| Val Acc: 50.0000\n",
            "Epoch 053: | Train Loss: 0.692 | Val Loss: 0.6937 | Train Acc: 52.0667| Val Acc: 50.0000\n",
            "Epoch 054: | Train Loss: 0.692 | Val Loss: 0.6937 | Train Acc: 52.0667| Val Acc: 50.0000\n",
            "Epoch 055: | Train Loss: 0.692 | Val Loss: 0.6937 | Train Acc: 52.0667| Val Acc: 50.0000\n",
            "Epoch 056: | Train Loss: 0.692 | Val Loss: 0.6937 | Train Acc: 52.0667| Val Acc: 50.0000\n",
            "Epoch 057: | Train Loss: 0.692 | Val Loss: 0.6937 | Train Acc: 52.0667| Val Acc: 50.0000\n",
            "Epoch 058: | Train Loss: 0.692 | Val Loss: 0.6937 | Train Acc: 52.0667| Val Acc: 50.0000\n",
            "Epoch 059: | Train Loss: 0.692 | Val Loss: 0.6937 | Train Acc: 52.0667| Val Acc: 50.0000\n",
            "Epoch 060: | Train Loss: 0.692 | Val Loss: 0.6937 | Train Acc: 52.0667| Val Acc: 50.0000\n",
            "Epoch 061: | Train Loss: 0.692 | Val Loss: 0.6937 | Train Acc: 52.0667| Val Acc: 50.0000\n",
            "Epoch 062: | Train Loss: 0.692 | Val Loss: 0.6937 | Train Acc: 52.0667| Val Acc: 50.0000\n",
            "Epoch 063: | Train Loss: 0.692 | Val Loss: 0.6937 | Train Acc: 52.0667| Val Acc: 50.0000\n",
            "Epoch 064: | Train Loss: 0.692 | Val Loss: 0.6937 | Train Acc: 52.0667| Val Acc: 50.0000\n",
            "Epoch 065: | Train Loss: 0.692 | Val Loss: 0.6937 | Train Acc: 52.0667| Val Acc: 50.0000\n",
            "Epoch 066: | Train Loss: 0.692 | Val Loss: 0.6937 | Train Acc: 52.0667| Val Acc: 50.0000\n",
            "Epoch 067: | Train Loss: 0.692 | Val Loss: 0.6937 | Train Acc: 52.0667| Val Acc: 50.0000\n",
            "Epoch 068: | Train Loss: 0.692 | Val Loss: 0.6937 | Train Acc: 52.0667| Val Acc: 50.0000\n",
            "Epoch 069: | Train Loss: 0.692 | Val Loss: 0.6937 | Train Acc: 52.0667| Val Acc: 50.0000\n",
            "Epoch 070: | Train Loss: 0.692 | Val Loss: 0.6937 | Train Acc: 52.0667| Val Acc: 50.0000\n",
            "Epoch 071: | Train Loss: 0.692 | Val Loss: 0.6937 | Train Acc: 52.0667| Val Acc: 50.0000\n",
            "Epoch 072: | Train Loss: 0.692 | Val Loss: 0.6937 | Train Acc: 52.0667| Val Acc: 50.0000\n",
            "Epoch 073: | Train Loss: 0.692 | Val Loss: 0.6937 | Train Acc: 52.0667| Val Acc: 50.0000\n",
            "Epoch 074: | Train Loss: 0.692 | Val Loss: 0.6937 | Train Acc: 52.0667| Val Acc: 50.0000\n",
            "Epoch 075: | Train Loss: 0.692 | Val Loss: 0.6937 | Train Acc: 52.0667| Val Acc: 50.0000\n",
            "Epoch 076: | Train Loss: 0.692 | Val Loss: 0.6937 | Train Acc: 52.0667| Val Acc: 50.0000\n",
            "Epoch 077: | Train Loss: 0.692 | Val Loss: 0.6937 | Train Acc: 52.0667| Val Acc: 50.0000\n",
            "Epoch 078: | Train Loss: 0.692 | Val Loss: 0.6937 | Train Acc: 52.0667| Val Acc: 50.0000\n",
            "Epoch 079: | Train Loss: 0.692 | Val Loss: 0.6937 | Train Acc: 52.0667| Val Acc: 50.0000\n",
            "Epoch 080: | Train Loss: 0.692 | Val Loss: 0.6937 | Train Acc: 52.0667| Val Acc: 50.0000\n",
            "Epoch 081: | Train Loss: 0.692 | Val Loss: 0.6937 | Train Acc: 52.0667| Val Acc: 50.0000\n",
            "Epoch 082: | Train Loss: 0.692 | Val Loss: 0.6937 | Train Acc: 52.0667| Val Acc: 50.0000\n",
            "Epoch 083: | Train Loss: 0.692 | Val Loss: 0.6937 | Train Acc: 52.0667| Val Acc: 50.0000\n",
            "Epoch 084: | Train Loss: 0.692 | Val Loss: 0.6937 | Train Acc: 52.0667| Val Acc: 50.0000\n",
            "Epoch 085: | Train Loss: 0.692 | Val Loss: 0.6937 | Train Acc: 52.0667| Val Acc: 50.0000\n",
            "Epoch 086: | Train Loss: 0.692 | Val Loss: 0.6937 | Train Acc: 52.0667| Val Acc: 50.0000\n",
            "Epoch 087: | Train Loss: 0.692 | Val Loss: 0.6937 | Train Acc: 52.0667| Val Acc: 50.0000\n",
            "Epoch 088: | Train Loss: 0.692 | Val Loss: 0.6937 | Train Acc: 52.0667| Val Acc: 50.0000\n",
            "Epoch 089: | Train Loss: 0.692 | Val Loss: 0.6937 | Train Acc: 52.0667| Val Acc: 50.0000\n",
            "Epoch 090: | Train Loss: 0.692 | Val Loss: 0.6937 | Train Acc: 52.0667| Val Acc: 50.0000\n",
            "Epoch 091: | Train Loss: 0.692 | Val Loss: 0.6937 | Train Acc: 52.0667| Val Acc: 50.0000\n",
            "Epoch 092: | Train Loss: 0.692 | Val Loss: 0.6937 | Train Acc: 52.0667| Val Acc: 50.0000\n",
            "Epoch 093: | Train Loss: 0.692 | Val Loss: 0.6937 | Train Acc: 52.0667| Val Acc: 50.0000\n",
            "Epoch 094: | Train Loss: 0.692 | Val Loss: 0.6937 | Train Acc: 52.0667| Val Acc: 50.0000\n",
            "Epoch 095: | Train Loss: 0.692 | Val Loss: 0.6937 | Train Acc: 52.0667| Val Acc: 50.0000\n",
            "Epoch 096: | Train Loss: 0.692 | Val Loss: 0.6937 | Train Acc: 52.0667| Val Acc: 50.0000\n",
            "Epoch 097: | Train Loss: 0.692 | Val Loss: 0.6937 | Train Acc: 52.0667| Val Acc: 50.0000\n",
            "Epoch 098: | Train Loss: 0.692 | Val Loss: 0.6937 | Train Acc: 52.0667| Val Acc: 50.0000\n",
            "Epoch 099: | Train Loss: 0.692 | Val Loss: 0.6937 | Train Acc: 52.0667| Val Acc: 50.0000\n",
            "Epoch 100: | Train Loss: 0.692 | Val Loss: 0.6937 | Train Acc: 52.0667| Val Acc: 50.0000\n",
            "Epoch 101: | Train Loss: 0.692 | Val Loss: 0.6937 | Train Acc: 52.0667| Val Acc: 50.0000\n",
            "Epoch 102: | Train Loss: 0.692 | Val Loss: 0.6937 | Train Acc: 52.0667| Val Acc: 50.0000\n",
            "Epoch 103: | Train Loss: 0.692 | Val Loss: 0.6937 | Train Acc: 52.0667| Val Acc: 50.0000\n",
            "Epoch 104: | Train Loss: 0.692 | Val Loss: 0.6937 | Train Acc: 52.0667| Val Acc: 50.0000\n",
            "Epoch 105: | Train Loss: 0.692 | Val Loss: 0.6937 | Train Acc: 52.0667| Val Acc: 50.0000\n",
            "Epoch 106: | Train Loss: 0.692 | Val Loss: 0.6937 | Train Acc: 52.0667| Val Acc: 50.0000\n",
            "Epoch 107: | Train Loss: 0.692 | Val Loss: 0.6937 | Train Acc: 52.0667| Val Acc: 50.0000\n",
            "Epoch 108: | Train Loss: 0.692 | Val Loss: 0.6937 | Train Acc: 52.0667| Val Acc: 50.0000\n",
            "Epoch 109: | Train Loss: 0.692 | Val Loss: 0.6937 | Train Acc: 52.0667| Val Acc: 50.0000\n",
            "Epoch 110: | Train Loss: 0.692 | Val Loss: 0.6937 | Train Acc: 52.0667| Val Acc: 50.0000\n",
            "Epoch 111: | Train Loss: 0.692 | Val Loss: 0.6937 | Train Acc: 52.0667| Val Acc: 50.0000\n",
            "Epoch 112: | Train Loss: 0.692 | Val Loss: 0.6937 | Train Acc: 52.0667| Val Acc: 50.0000\n",
            "Epoch 113: | Train Loss: 0.692 | Val Loss: 0.6937 | Train Acc: 52.0667| Val Acc: 50.0000\n",
            "Epoch 114: | Train Loss: 0.692 | Val Loss: 0.6937 | Train Acc: 52.0667| Val Acc: 50.0000\n",
            "Epoch 115: | Train Loss: 0.692 | Val Loss: 0.6937 | Train Acc: 52.0667| Val Acc: 50.0000\n",
            "Epoch 116: | Train Loss: 0.692 | Val Loss: 0.6937 | Train Acc: 52.0667| Val Acc: 50.0000\n",
            "Epoch 117: | Train Loss: 0.692 | Val Loss: 0.6937 | Train Acc: 52.0667| Val Acc: 50.0000\n",
            "Epoch 118: | Train Loss: 0.692 | Val Loss: 0.6937 | Train Acc: 52.0667| Val Acc: 50.0000\n",
            "Epoch 119: | Train Loss: 0.692 | Val Loss: 0.6937 | Train Acc: 52.0667| Val Acc: 50.0000\n",
            "Epoch 120: | Train Loss: 0.692 | Val Loss: 0.6937 | Train Acc: 52.0667| Val Acc: 50.0000\n",
            "Epoch 121: | Train Loss: 0.692 | Val Loss: 0.6937 | Train Acc: 52.0667| Val Acc: 50.0000\n",
            "Epoch 122: | Train Loss: 0.692 | Val Loss: 0.6937 | Train Acc: 52.0667| Val Acc: 50.0000\n",
            "Epoch 123: | Train Loss: 0.692 | Val Loss: 0.6937 | Train Acc: 52.0667| Val Acc: 50.0000\n",
            "Epoch 124: | Train Loss: 0.692 | Val Loss: 0.6937 | Train Acc: 52.0667| Val Acc: 50.0000\n",
            "Epoch 125: | Train Loss: 0.692 | Val Loss: 0.6937 | Train Acc: 52.0667| Val Acc: 50.0000\n",
            "Epoch 126: | Train Loss: 0.692 | Val Loss: 0.6937 | Train Acc: 52.0667| Val Acc: 50.0000\n",
            "Epoch 127: | Train Loss: 0.692 | Val Loss: 0.6937 | Train Acc: 52.0667| Val Acc: 50.0000\n",
            "Epoch 128: | Train Loss: 0.692 | Val Loss: 0.6937 | Train Acc: 52.0667| Val Acc: 50.0000\n",
            "Epoch 129: | Train Loss: 0.692 | Val Loss: 0.6937 | Train Acc: 52.0667| Val Acc: 50.0000\n",
            "Epoch 130: | Train Loss: 0.692 | Val Loss: 0.6937 | Train Acc: 52.0667| Val Acc: 50.0000\n",
            "Epoch 131: | Train Loss: 0.692 | Val Loss: 0.6937 | Train Acc: 52.0667| Val Acc: 50.0000\n",
            "Epoch 132: | Train Loss: 0.692 | Val Loss: 0.6937 | Train Acc: 52.0667| Val Acc: 50.0000\n",
            "Epoch 133: | Train Loss: 0.692 | Val Loss: 0.6937 | Train Acc: 52.0667| Val Acc: 50.0000\n",
            "Epoch 134: | Train Loss: 0.692 | Val Loss: 0.6937 | Train Acc: 52.0667| Val Acc: 50.0000\n",
            "Epoch 135: | Train Loss: 0.692 | Val Loss: 0.6937 | Train Acc: 52.0667| Val Acc: 50.0000\n",
            "Epoch 136: | Train Loss: 0.692 | Val Loss: 0.6937 | Train Acc: 52.0667| Val Acc: 50.0000\n",
            "Epoch 137: | Train Loss: 0.692 | Val Loss: 0.6937 | Train Acc: 52.0667| Val Acc: 50.0000\n",
            "Epoch 138: | Train Loss: 0.692 | Val Loss: 0.6937 | Train Acc: 52.0667| Val Acc: 50.0000\n",
            "Epoch 139: | Train Loss: 0.692 | Val Loss: 0.6937 | Train Acc: 52.0667| Val Acc: 50.0000\n",
            "Epoch 140: | Train Loss: 0.692 | Val Loss: 0.6937 | Train Acc: 52.0667| Val Acc: 50.0000\n",
            "Epoch 141: | Train Loss: 0.692 | Val Loss: 0.6937 | Train Acc: 52.0667| Val Acc: 50.0000\n",
            "Epoch 142: | Train Loss: 0.692 | Val Loss: 0.6937 | Train Acc: 52.0667| Val Acc: 50.0000\n",
            "Epoch 143: | Train Loss: 0.692 | Val Loss: 0.6937 | Train Acc: 52.0667| Val Acc: 50.0000\n",
            "Epoch 144: | Train Loss: 0.692 | Val Loss: 0.6937 | Train Acc: 52.0667| Val Acc: 50.0000\n",
            "Epoch 145: | Train Loss: 0.692 | Val Loss: 0.6937 | Train Acc: 52.0667| Val Acc: 50.0000\n",
            "Epoch 146: | Train Loss: 0.692 | Val Loss: 0.6937 | Train Acc: 52.0667| Val Acc: 50.0000\n",
            "Epoch 147: | Train Loss: 0.692 | Val Loss: 0.6937 | Train Acc: 52.0667| Val Acc: 50.0000\n",
            "Epoch 148: | Train Loss: 0.692 | Val Loss: 0.6937 | Train Acc: 52.0667| Val Acc: 50.0000\n",
            "Epoch 149: | Train Loss: 0.692 | Val Loss: 0.6937 | Train Acc: 52.0667| Val Acc: 50.0000\n",
            "Epoch 150: | Train Loss: 0.692 | Val Loss: 0.6937 | Train Acc: 52.0667| Val Acc: 50.0000\n",
            "Epoch 151: | Train Loss: 0.692 | Val Loss: 0.6937 | Train Acc: 52.0667| Val Acc: 50.0000\n",
            "Epoch 152: | Train Loss: 0.692 | Val Loss: 0.6937 | Train Acc: 52.0667| Val Acc: 50.0000\n",
            "Epoch 153: | Train Loss: 0.692 | Val Loss: 0.6937 | Train Acc: 52.0667| Val Acc: 50.0000\n",
            "Epoch 154: | Train Loss: 0.692 | Val Loss: 0.6937 | Train Acc: 52.0667| Val Acc: 50.0000\n",
            "Epoch 155: | Train Loss: 0.692 | Val Loss: 0.6937 | Train Acc: 52.0667| Val Acc: 50.0000\n",
            "Epoch 156: | Train Loss: 0.692 | Val Loss: 0.6937 | Train Acc: 52.0667| Val Acc: 50.0000\n",
            "Epoch 157: | Train Loss: 0.692 | Val Loss: 0.6937 | Train Acc: 52.0667| Val Acc: 50.0000\n",
            "Epoch 158: | Train Loss: 0.692 | Val Loss: 0.6937 | Train Acc: 52.0667| Val Acc: 50.0000\n",
            "Epoch 159: | Train Loss: 0.692 | Val Loss: 0.6937 | Train Acc: 52.0667| Val Acc: 50.0000\n",
            "Epoch 160: | Train Loss: 0.692 | Val Loss: 0.6937 | Train Acc: 52.0667| Val Acc: 50.0000\n",
            "Epoch 161: | Train Loss: 0.692 | Val Loss: 0.6937 | Train Acc: 52.0667| Val Acc: 50.0000\n",
            "Epoch 162: | Train Loss: 0.692 | Val Loss: 0.6937 | Train Acc: 52.0667| Val Acc: 50.0000\n",
            "Epoch 163: | Train Loss: 0.692 | Val Loss: 0.6937 | Train Acc: 52.0667| Val Acc: 50.0000\n",
            "Epoch 164: | Train Loss: 0.692 | Val Loss: 0.6937 | Train Acc: 52.0667| Val Acc: 50.0000\n",
            "Epoch 165: | Train Loss: 0.692 | Val Loss: 0.6937 | Train Acc: 52.0667| Val Acc: 50.0000\n",
            "Epoch 166: | Train Loss: 0.692 | Val Loss: 0.6937 | Train Acc: 52.0667| Val Acc: 50.0000\n",
            "Epoch 167: | Train Loss: 0.692 | Val Loss: 0.6937 | Train Acc: 52.0667| Val Acc: 50.0000\n",
            "Epoch 168: | Train Loss: 0.692 | Val Loss: 0.6937 | Train Acc: 52.0667| Val Acc: 50.0000\n",
            "Epoch 169: | Train Loss: 0.692 | Val Loss: 0.6937 | Train Acc: 52.0667| Val Acc: 50.0000\n",
            "Epoch 170: | Train Loss: 0.692 | Val Loss: 0.6937 | Train Acc: 52.0667| Val Acc: 50.0000\n",
            "Epoch 171: | Train Loss: 0.692 | Val Loss: 0.6937 | Train Acc: 52.0667| Val Acc: 50.0000\n",
            "Epoch 172: | Train Loss: 0.692 | Val Loss: 0.6937 | Train Acc: 52.0667| Val Acc: 50.0000\n",
            "Epoch 173: | Train Loss: 0.692 | Val Loss: 0.6937 | Train Acc: 52.0667| Val Acc: 50.0000\n",
            "Epoch 174: | Train Loss: 0.692 | Val Loss: 0.6937 | Train Acc: 52.0667| Val Acc: 50.0000\n",
            "Epoch 175: | Train Loss: 0.692 | Val Loss: 0.6937 | Train Acc: 52.0667| Val Acc: 50.0000\n",
            "Epoch 176: | Train Loss: 0.692 | Val Loss: 0.6937 | Train Acc: 52.0667| Val Acc: 50.0000\n",
            "Epoch 177: | Train Loss: 0.692 | Val Loss: 0.6937 | Train Acc: 52.0667| Val Acc: 50.0000\n",
            "Epoch 178: | Train Loss: 0.692 | Val Loss: 0.6937 | Train Acc: 52.0667| Val Acc: 50.0000\n",
            "Epoch 179: | Train Loss: 0.692 | Val Loss: 0.6937 | Train Acc: 52.0667| Val Acc: 50.0000\n",
            "Epoch 180: | Train Loss: 0.692 | Val Loss: 0.6937 | Train Acc: 52.0667| Val Acc: 50.0000\n",
            "Epoch 181: | Train Loss: 0.692 | Val Loss: 0.6937 | Train Acc: 52.0667| Val Acc: 50.0000\n",
            "Epoch 182: | Train Loss: 0.692 | Val Loss: 0.6937 | Train Acc: 52.0667| Val Acc: 50.0000\n",
            "Epoch 183: | Train Loss: 0.692 | Val Loss: 0.6937 | Train Acc: 52.0667| Val Acc: 50.0000\n",
            "Epoch 184: | Train Loss: 0.692 | Val Loss: 0.6937 | Train Acc: 52.0667| Val Acc: 50.0000\n",
            "Epoch 185: | Train Loss: 0.692 | Val Loss: 0.6937 | Train Acc: 52.0667| Val Acc: 50.0000\n",
            "Epoch 186: | Train Loss: 0.692 | Val Loss: 0.6937 | Train Acc: 52.0667| Val Acc: 50.0000\n",
            "Epoch 187: | Train Loss: 0.692 | Val Loss: 0.6937 | Train Acc: 52.0667| Val Acc: 50.0000\n",
            "Epoch 188: | Train Loss: 0.692 | Val Loss: 0.6937 | Train Acc: 52.0667| Val Acc: 50.0000\n",
            "Epoch 189: | Train Loss: 0.692 | Val Loss: 0.6937 | Train Acc: 52.0667| Val Acc: 50.0000\n",
            "Epoch 190: | Train Loss: 0.692 | Val Loss: 0.6937 | Train Acc: 52.0667| Val Acc: 50.0000\n",
            "Epoch 191: | Train Loss: 0.692 | Val Loss: 0.6937 | Train Acc: 52.0667| Val Acc: 50.0000\n",
            "Epoch 192: | Train Loss: 0.692 | Val Loss: 0.6937 | Train Acc: 52.0667| Val Acc: 50.0000\n",
            "Epoch 193: | Train Loss: 0.692 | Val Loss: 0.6937 | Train Acc: 52.0667| Val Acc: 50.0000\n",
            "Epoch 194: | Train Loss: 0.692 | Val Loss: 0.6937 | Train Acc: 52.0667| Val Acc: 50.0000\n",
            "Epoch 195: | Train Loss: 0.692 | Val Loss: 0.6937 | Train Acc: 52.0667| Val Acc: 50.0000\n",
            "Epoch 196: | Train Loss: 0.692 | Val Loss: 0.6937 | Train Acc: 52.0667| Val Acc: 50.0000\n",
            "Epoch 197: | Train Loss: 0.692 | Val Loss: 0.6937 | Train Acc: 52.0667| Val Acc: 50.0000\n",
            "Epoch 198: | Train Loss: 0.692 | Val Loss: 0.6937 | Train Acc: 52.0667| Val Acc: 50.0000\n",
            "Epoch 199: | Train Loss: 0.692 | Val Loss: 0.6937 | Train Acc: 52.0667| Val Acc: 50.0000\n",
            "Epoch 200: | Train Loss: 0.692 | Val Loss: 0.6937 | Train Acc: 52.0667| Val Acc: 50.0000\n",
            "Epoch 201: | Train Loss: 0.692 | Val Loss: 0.6937 | Train Acc: 52.0667| Val Acc: 50.0000\n",
            "Epoch 202: | Train Loss: 0.692 | Val Loss: 0.6937 | Train Acc: 52.0667| Val Acc: 50.0000\n",
            "Epoch 203: | Train Loss: 0.692 | Val Loss: 0.6937 | Train Acc: 52.0667| Val Acc: 50.0000\n",
            "Epoch 204: | Train Loss: 0.692 | Val Loss: 0.6937 | Train Acc: 52.0667| Val Acc: 50.0000\n",
            "Epoch 205: | Train Loss: 0.692 | Val Loss: 0.6937 | Train Acc: 52.0667| Val Acc: 50.0000\n",
            "Epoch 206: | Train Loss: 0.692 | Val Loss: 0.6937 | Train Acc: 52.0667| Val Acc: 50.0000\n",
            "Epoch 207: | Train Loss: 0.692 | Val Loss: 0.6937 | Train Acc: 52.0667| Val Acc: 50.0000\n",
            "Epoch 208: | Train Loss: 0.692 | Val Loss: 0.6937 | Train Acc: 52.0667| Val Acc: 50.0000\n",
            "Epoch 209: | Train Loss: 0.692 | Val Loss: 0.6937 | Train Acc: 52.0667| Val Acc: 50.0000\n",
            "Epoch 210: | Train Loss: 0.692 | Val Loss: 0.6937 | Train Acc: 52.0667| Val Acc: 50.0000\n",
            "Epoch 211: | Train Loss: 0.692 | Val Loss: 0.6937 | Train Acc: 52.0667| Val Acc: 50.0000\n",
            "Epoch 212: | Train Loss: 0.692 | Val Loss: 0.6937 | Train Acc: 52.0667| Val Acc: 50.0000\n",
            "Epoch 213: | Train Loss: 0.692 | Val Loss: 0.6937 | Train Acc: 52.0667| Val Acc: 50.0000\n",
            "Epoch 214: | Train Loss: 0.692 | Val Loss: 0.6937 | Train Acc: 52.0667| Val Acc: 50.0000\n",
            "Epoch 215: | Train Loss: 0.692 | Val Loss: 0.6937 | Train Acc: 52.0667| Val Acc: 50.0000\n",
            "Epoch 216: | Train Loss: 0.692 | Val Loss: 0.6937 | Train Acc: 52.0667| Val Acc: 50.0000\n",
            "Epoch 217: | Train Loss: 0.692 | Val Loss: 0.6937 | Train Acc: 52.0667| Val Acc: 50.0000\n",
            "Epoch 218: | Train Loss: 0.692 | Val Loss: 0.6937 | Train Acc: 52.0667| Val Acc: 50.0000\n",
            "Epoch 219: | Train Loss: 0.692 | Val Loss: 0.6937 | Train Acc: 52.0667| Val Acc: 50.0000\n",
            "Epoch 220: | Train Loss: 0.692 | Val Loss: 0.6937 | Train Acc: 52.0667| Val Acc: 50.0000\n",
            "Epoch 221: | Train Loss: 0.692 | Val Loss: 0.6937 | Train Acc: 52.0667| Val Acc: 50.0000\n",
            "Epoch 222: | Train Loss: 0.692 | Val Loss: 0.6937 | Train Acc: 52.0667| Val Acc: 50.0000\n",
            "Epoch 223: | Train Loss: 0.692 | Val Loss: 0.6937 | Train Acc: 52.0667| Val Acc: 50.0000\n",
            "Epoch 224: | Train Loss: 0.692 | Val Loss: 0.6937 | Train Acc: 52.0667| Val Acc: 50.0000\n",
            "Epoch 225: | Train Loss: 0.692 | Val Loss: 0.6937 | Train Acc: 52.0667| Val Acc: 50.0000\n",
            "Epoch 226: | Train Loss: 0.692 | Val Loss: 0.6937 | Train Acc: 52.0667| Val Acc: 50.0000\n",
            "Epoch 227: | Train Loss: 0.692 | Val Loss: 0.6937 | Train Acc: 52.0667| Val Acc: 50.0000\n",
            "Epoch 228: | Train Loss: 0.692 | Val Loss: 0.6937 | Train Acc: 52.0667| Val Acc: 50.0000\n",
            "Epoch 229: | Train Loss: 0.692 | Val Loss: 0.6937 | Train Acc: 52.0667| Val Acc: 50.0000\n",
            "Epoch 230: | Train Loss: 0.692 | Val Loss: 0.6937 | Train Acc: 52.0667| Val Acc: 50.0000\n",
            "Epoch 231: | Train Loss: 0.692 | Val Loss: 0.6937 | Train Acc: 52.0667| Val Acc: 50.0000\n",
            "Epoch 232: | Train Loss: 0.692 | Val Loss: 0.6937 | Train Acc: 52.0667| Val Acc: 50.0000\n",
            "Epoch 233: | Train Loss: 0.692 | Val Loss: 0.6937 | Train Acc: 52.0667| Val Acc: 50.0000\n",
            "Epoch 234: | Train Loss: 0.692 | Val Loss: 0.6937 | Train Acc: 52.0667| Val Acc: 50.0000\n",
            "Epoch 235: | Train Loss: 0.692 | Val Loss: 0.6937 | Train Acc: 52.0667| Val Acc: 50.0000\n",
            "Epoch 236: | Train Loss: 0.692 | Val Loss: 0.6937 | Train Acc: 52.0667| Val Acc: 50.0000\n",
            "Epoch 237: | Train Loss: 0.692 | Val Loss: 0.6937 | Train Acc: 52.0667| Val Acc: 50.0000\n",
            "Epoch 238: | Train Loss: 0.692 | Val Loss: 0.6937 | Train Acc: 52.0667| Val Acc: 50.0000\n",
            "Epoch 239: | Train Loss: 0.692 | Val Loss: 0.6937 | Train Acc: 52.0667| Val Acc: 50.0000\n",
            "Epoch 240: | Train Loss: 0.692 | Val Loss: 0.6937 | Train Acc: 52.0667| Val Acc: 50.0000\n",
            "Epoch 241: | Train Loss: 0.692 | Val Loss: 0.6937 | Train Acc: 52.0667| Val Acc: 50.0000\n",
            "Epoch 242: | Train Loss: 0.692 | Val Loss: 0.6937 | Train Acc: 52.0667| Val Acc: 50.0000\n",
            "Epoch 243: | Train Loss: 0.692 | Val Loss: 0.6937 | Train Acc: 52.0667| Val Acc: 50.0000\n",
            "Epoch 244: | Train Loss: 0.692 | Val Loss: 0.6937 | Train Acc: 52.0667| Val Acc: 50.0000\n",
            "Epoch 245: | Train Loss: 0.692 | Val Loss: 0.6937 | Train Acc: 52.0667| Val Acc: 50.0000\n",
            "Epoch 246: | Train Loss: 0.692 | Val Loss: 0.6937 | Train Acc: 52.0667| Val Acc: 50.0000\n",
            "Epoch 247: | Train Loss: 0.692 | Val Loss: 0.6937 | Train Acc: 52.0667| Val Acc: 50.0000\n",
            "Epoch 248: | Train Loss: 0.692 | Val Loss: 0.6937 | Train Acc: 52.0667| Val Acc: 50.0000\n",
            "Epoch 249: | Train Loss: 0.692 | Val Loss: 0.6937 | Train Acc: 52.0667| Val Acc: 50.0000\n",
            "Epoch 250: | Train Loss: 0.692 | Val Loss: 0.6937 | Train Acc: 52.0667| Val Acc: 50.0000\n"
          ]
        }
      ],
      "source": [
        "lr = 0.01\n",
        "epochs = 250\n",
        "\n",
        "history, y_hat = train(model, train_loader, val_dataset, epochs=epochs, lr=lr, device=device, binary=binary)"
      ]
    },
    {
      "cell_type": "code",
      "execution_count": 20,
      "metadata": {
        "id": "fe8dEdlExBi1"
      },
      "outputs": [],
      "source": [
        "y_pred = model.predict(test_dataset.X_data, binary=binary)"
      ]
    },
    {
      "cell_type": "code",
      "execution_count": 21,
      "metadata": {
        "id": "OT-4T0vlxBi1",
        "outputId": "1f7bfff8-5d5a-468f-d4bb-e7d253921edc",
        "colab": {
          "base_uri": "https://localhost:8080/",
          "height": 922
        }
      },
      "outputs": [
        {
          "output_type": "stream",
          "name": "stdout",
          "text": [
            "              precision    recall  f1-score   support\n",
            "\n",
            "           0       0.55      1.00      0.71       164\n",
            "           1       0.00      0.00      0.00       136\n",
            "\n",
            "    accuracy                           0.55       300\n",
            "   macro avg       0.27      0.50      0.35       300\n",
            "weighted avg       0.30      0.55      0.39       300\n",
            "\n"
          ]
        },
        {
          "output_type": "stream",
          "name": "stderr",
          "text": [
            "/usr/local/lib/python3.11/dist-packages/sklearn/metrics/_classification.py:1565: UndefinedMetricWarning: Precision is ill-defined and being set to 0.0 in labels with no predicted samples. Use `zero_division` parameter to control this behavior.\n",
            "  _warn_prf(average, modifier, f\"{metric.capitalize()} is\", len(result))\n",
            "/usr/local/lib/python3.11/dist-packages/sklearn/metrics/_classification.py:1565: UndefinedMetricWarning: Precision is ill-defined and being set to 0.0 in labels with no predicted samples. Use `zero_division` parameter to control this behavior.\n",
            "  _warn_prf(average, modifier, f\"{metric.capitalize()} is\", len(result))\n",
            "/usr/local/lib/python3.11/dist-packages/sklearn/metrics/_classification.py:1565: UndefinedMetricWarning: Precision is ill-defined and being set to 0.0 in labels with no predicted samples. Use `zero_division` parameter to control this behavior.\n",
            "  _warn_prf(average, modifier, f\"{metric.capitalize()} is\", len(result))\n"
          ]
        },
        {
          "output_type": "display_data",
          "data": {
            "text/plain": [
              "<Figure size 800x600 with 2 Axes>"
            ],
            "image/png": "[encoded data removed]"
          },
          "metadata": {}
        }
      ],
      "source": [
        "print(classification_report(y_test, y_pred))\n",
        "\n",
        "cm = confusion_matrix(y_test, y_pred)\n",
        "\n",
        "plot_confusion_matrix(cm)"
      ]
    },
    {
      "cell_type": "markdown",
      "metadata": {
        "id": "sT51muasgPV6"
      },
      "source": [
        "#### Resposta"
      ]
    },
    {
      "cell_type": "markdown",
      "metadata": {
        "id": "vZi3GgBhgPWM"
      },
      "source": [
        "## Parte III - Mudança de configurações do modelo\n",
        "\n",
        "Total: 5,0 pts."
      ]
    },
    {
      "cell_type": "markdown",
      "metadata": {
        "id": "aZzeSjwuxBi8"
      },
      "source": [
        "### 1)\tAgora normalize os dados de entrada e treine novamente o modelo MLP. Avalie os resultados obtidos e comente o efeito da normalização no treinamento da Rede Neural."
      ]
    },
    {
      "cell_type": "markdown",
      "metadata": {
        "id": "73IlbdD4xBi9"
      },
      "source": [
        "#### Rascunho"
      ]
    },
    {
      "cell_type": "code",
      "execution_count": 22,
      "metadata": {
        "id": "jjWAHjgTxBi9",
        "outputId": "346b572f-329e-4278-c9c9-3f3ad0045198",
        "colab": {
          "base_uri": "https://localhost:8080/",
          "height": 226
        }
      },
      "outputs": [
        {
          "output_type": "execute_result",
          "data": {
            "text/plain": [
              "   ESTC_0  ESTC_1  ESTC_2  ESTC_3  NDEP     RENDA  TIPOR_0  TIPOR_1      VBEM  \\\n",
              "0       0       1       0       0   0.0  0.007792        1        0  0.003514   \n",
              "1       1       0       0       0   0.0  0.006494        0        1  0.045405   \n",
              "2       1       0       0       0   0.0  0.103896        1        0  0.142973   \n",
              "3       1       0       0       0   0.0  0.350649        1        0  0.068108   \n",
              "4       0       1       0       0   0.0  0.090909        1        0  0.137568   \n",
              "\n",
              "      NPARC     VPARC  TEL_0  TEL_1     IDADE     RESMS  ENTRADA  target  \n",
              "0  0.347826  0.003026      1      0  0.117647  0.114286      0.0       1  \n",
              "1  0.391304  0.022693      1      0  0.274510  0.014286      0.0       1  \n",
              "2  0.347826  0.113464      1      0  0.725490  0.114286      0.0       1  \n",
              "3  0.478261  0.039334      0      1  0.235294  0.142857      0.0       1  \n",
              "4  0.478261  0.092284      1      0  0.098039  0.016667      0.0       1  "
            ],
            "text/html": [
              "\n",
              "  <div id=\"df-b94b34cb-fd33-4e3a-b9ad-6342c8918376\" class=\"colab-df-container\">\n",
              "    <div>\n",
              "<style scoped>\n",
              "    .dataframe tbody tr th:only-of-type {\n",
              "        vertical-align: middle;\n",
              "    }\n",
              "\n",
              "    .dataframe tbody tr th {\n",
              "        vertical-align: top;\n",
              "    }\n",
              "\n",
              "    .dataframe thead th {\n",
              "        text-align: right;\n",
              "    }\n",
              "</style>\n",
              "<table border=\"1\" class=\"dataframe\">\n",
              "  <thead>\n",
              "    <tr style=\"text-align: right;\">\n",
              "      <th></th>\n",
              "      <th>ESTC_0</th>\n",
              "      <th>ESTC_1</th>\n",
              "      <th>ESTC_2</th>\n",
              "      <th>ESTC_3</th>\n",
              "      <th>NDEP</th>\n",
              "      <th>RENDA</th>\n",
              "      <th>TIPOR_0</th>\n",
              "      <th>TIPOR_1</th>\n",
              "      <th>VBEM</th>\n",
              "      <th>NPARC</th>\n",
              "      <th>VPARC</th>\n",
              "      <th>TEL_0</th>\n",
              "      <th>TEL_1</th>\n",
              "      <th>IDADE</th>\n",
              "      <th>RESMS</th>\n",
              "      <th>ENTRADA</th>\n",
              "      <th>target</th>\n",
              "    </tr>\n",
              "  </thead>\n",
              "  <tbody>\n",
              "    <tr>\n",
              "      <th>0</th>\n",
              "      <td>0</td>\n",
              "      <td>1</td>\n",
              "      <td>0</td>\n",
              "      <td>0</td>\n",
              "      <td>0.0</td>\n",
              "      <td>0.007792</td>\n",
              "      <td>1</td>\n",
              "      <td>0</td>\n",
              "      <td>0.003514</td>\n",
              "      <td>0.347826</td>\n",
              "      <td>0.003026</td>\n",
              "      <td>1</td>\n",
              "      <td>0</td>\n",
              "      <td>0.117647</td>\n",
              "      <td>0.114286</td>\n",
              "      <td>0.0</td>\n",
              "      <td>1</td>\n",
              "    </tr>\n",
              "    <tr>\n",
              "      <th>1</th>\n",
              "      <td>1</td>\n",
              "      <td>0</td>\n",
              "      <td>0</td>\n",
              "      <td>0</td>\n",
              "      <td>0.0</td>\n",
              "      <td>0.006494</td>\n",
              "      <td>0</td>\n",
              "      <td>1</td>\n",
              "      <td>0.045405</td>\n",
              "      <td>0.391304</td>\n",
              "      <td>0.022693</td>\n",
              "      <td>1</td>\n",
              "      <td>0</td>\n",
              "      <td>0.274510</td>\n",
              "      <td>0.014286</td>\n",
              "      <td>0.0</td>\n",
              "      <td>1</td>\n",
              "    </tr>\n",
              "    <tr>\n",
              "      <th>2</th>\n",
              "      <td>1</td>\n",
              "      <td>0</td>\n",
              "      <td>0</td>\n",
              "      <td>0</td>\n",
              "      <td>0.0</td>\n",
              "      <td>0.103896</td>\n",
              "      <td>1</td>\n",
              "      <td>0</td>\n",
              "      <td>0.142973</td>\n",
              "      <td>0.347826</td>\n",
              "      <td>0.113464</td>\n",
              "      <td>1</td>\n",
              "      <td>0</td>\n",
              "      <td>0.725490</td>\n",
              "      <td>0.114286</td>\n",
              "      <td>0.0</td>\n",
              "      <td>1</td>\n",
              "    </tr>\n",
              "    <tr>\n",
              "      <th>3</th>\n",
              "      <td>1</td>\n",
              "      <td>0</td>\n",
              "      <td>0</td>\n",
              "      <td>0</td>\n",
              "      <td>0.0</td>\n",
              "      <td>0.350649</td>\n",
              "      <td>1</td>\n",
              "      <td>0</td>\n",
              "      <td>0.068108</td>\n",
              "      <td>0.478261</td>\n",
              "      <td>0.039334</td>\n",
              "      <td>0</td>\n",
              "      <td>1</td>\n",
              "      <td>0.235294</td>\n",
              "      <td>0.142857</td>\n",
              "      <td>0.0</td>\n",
              "      <td>1</td>\n",
              "    </tr>\n",
              "    <tr>\n",
              "      <th>4</th>\n",
              "      <td>0</td>\n",
              "      <td>1</td>\n",
              "      <td>0</td>\n",
              "      <td>0</td>\n",
              "      <td>0.0</td>\n",
              "      <td>0.090909</td>\n",
              "      <td>1</td>\n",
              "      <td>0</td>\n",
              "      <td>0.137568</td>\n",
              "      <td>0.478261</td>\n",
              "      <td>0.092284</td>\n",
              "      <td>1</td>\n",
              "      <td>0</td>\n",
              "      <td>0.098039</td>\n",
              "      <td>0.016667</td>\n",
              "      <td>0.0</td>\n",
              "      <td>1</td>\n",
              "    </tr>\n",
              "  </tbody>\n",
              "</table>\n",
              "</div>\n",
              "    <div class=\"colab-df-buttons\">\n",
              "\n",
              "  <div class=\"colab-df-container\">\n",
              "    <button class=\"colab-df-convert\" onclick=\"convertToInteractive('df-b94b34cb-fd33-4e3a-b9ad-6342c8918376')\"\n",
              "            title=\"Convert this dataframe to an interactive table.\"\n",
              "            style=\"display:none;\">\n",
              "\n",
              "  <svg xmlns=\"http://www.w3.org/2000/svg\" height=\"24px\" viewBox=\"0 -960 960 960\">\n",
              "    <path d=\"M120-120v-720h720v720H120Zm60-500h600v-160H180v160Zm220 220h160v-160H400v160Zm0 220h160v-160H400v160ZM180-400h160v-160H180v160Zm440 0h160v-160H620v160ZM180-180h160v-160H180v160Zm440 0h160v-160H620v160Z\"/>\n",
              "  </svg>\n",
              "    </button>\n",
              "\n",
              "  <style>\n",
              "    .colab-df-container {\n",
              "      display:flex;\n",
              "      gap: 12px;\n",
              "    }\n",
              "\n",
              "    .colab-df-convert {\n",
              "      background-color: #E8F0FE;\n",
              "      border: none;\n",
              "      border-radius: 50%;\n",
              "      cursor: pointer;\n",
              "      display: none;\n",
              "      fill: #1967D2;\n",
              "      height: 32px;\n",
              "      padding: 0 0 0 0;\n",
              "      width: 32px;\n",
              "    }\n",
              "\n",
              "    .colab-df-convert:hover {\n",
              "      background-color: #E2EBFA;\n",
              "      box-shadow: 0px 1px 2px rgba(60, 64, 67, 0.3), 0px 1px 3px 1px rgba(60, 64, 67, 0.15);\n",
              "      fill: #174EA6;\n",
              "    }\n",
              "\n",
              "    .colab-df-buttons div {\n",
              "      margin-bottom: 4px;\n",
              "    }\n",
              "\n",
              "    [theme=dark] .colab-df-convert {\n",
              "      background-color: #3B4455;\n",
              "      fill: #D2E3FC;\n",
              "    }\n",
              "\n",
              "    [theme=dark] .colab-df-convert:hover {\n",
              "      background-color: #434B5C;\n",
              "      box-shadow: 0px 1px 3px 1px rgba(0, 0, 0, 0.15);\n",
              "      filter: drop-shadow(0px 1px 2px rgba(0, 0, 0, 0.3));\n",
              "      fill: #FFFFFF;\n",
              "    }\n",
              "  </style>\n",
              "\n",
              "    <script>\n",
              "      const buttonEl =\n",
              "        document.querySelector('#df-b94b34cb-fd33-4e3a-b9ad-6342c8918376 button.colab-df-convert');\n",
              "      buttonEl.style.display =\n",
              "        google.colab.kernel.accessAllowed ? 'block' : 'none';\n",
              "\n",
              "      async function convertToInteractive(key) {\n",
              "        const element = document.querySelector('#df-b94b34cb-fd33-4e3a-b9ad-6342c8918376');\n",
              "        const dataTable =\n",
              "          await google.colab.kernel.invokeFunction('convertToInteractive',\n",
              "                                                    [key], {});\n",
              "        if (!dataTable) return;\n",
              "\n",
              "        const docLinkHtml = 'Like what you see? Visit the ' +\n",
              "          '<a target=\"_blank\" href=https://colab.research.google.com/notebooks/data_table.ipynb>data table notebook</a>'\n",
              "          + ' to learn more about interactive tables.';\n",
              "        element.innerHTML = '';\n",
              "        dataTable['output_type'] = 'display_data';\n",
              "        await google.colab.output.renderOutput(dataTable, element);\n",
              "        const docLink = document.createElement('div');\n",
              "        docLink.innerHTML = docLinkHtml;\n",
              "        element.appendChild(docLink);\n",
              "      }\n",
              "    </script>\n",
              "  </div>\n",
              "\n",
              "\n",
              "    <div id=\"df-305ad41b-485e-4750-baa2-9fdd508ee49a\">\n",
              "      <button class=\"colab-df-quickchart\" onclick=\"quickchart('df-305ad41b-485e-4750-baa2-9fdd508ee49a')\"\n",
              "                title=\"Suggest charts\"\n",
              "                style=\"display:none;\">\n",
              "\n",
              "<svg xmlns=\"http://www.w3.org/2000/svg\" height=\"24px\"viewBox=\"0 0 24 24\"\n",
              "     width=\"24px\">\n",
              "    <g>\n",
              "        <path d=\"M19 3H5c-1.1 0-2 .9-2 2v14c0 1.1.9 2 2 2h14c1.1 0 2-.9 2-2V5c0-1.1-.9-2-2-2zM9 17H7v-7h2v7zm4 0h-2V7h2v10zm4 0h-2v-4h2v4z\"/>\n",
              "    </g>\n",
              "</svg>\n",
              "      </button>\n",
              "\n",
              "<style>\n",
              "  .colab-df-quickchart {\n",
              "      --bg-color: #E8F0FE;\n",
              "      --fill-color: #1967D2;\n",
              "      --hover-bg-color: #E2EBFA;\n",
              "      --hover-fill-color: #174EA6;\n",
              "      --disabled-fill-color: #AAA;\n",
              "      --disabled-bg-color: #DDD;\n",
              "  }\n",
              "\n",
              "  [theme=dark] .colab-df-quickchart {\n",
              "      --bg-color: #3B4455;\n",
              "      --fill-color: #D2E3FC;\n",
              "      --hover-bg-color: #434B5C;\n",
              "      --hover-fill-color: #FFFFFF;\n",
              "      --disabled-bg-color: #3B4455;\n",
              "      --disabled-fill-color: #666;\n",
              "  }\n",
              "\n",
              "  .colab-df-quickchart {\n",
              "    background-color: var(--bg-color);\n",
              "    border: none;\n",
              "    border-radius: 50%;\n",
              "    cursor: pointer;\n",
              "    display: none;\n",
              "    fill: var(--fill-color);\n",
              "    height: 32px;\n",
              "    padding: 0;\n",
              "    width: 32px;\n",
              "  }\n",
              "\n",
              "  .colab-df-quickchart:hover {\n",
              "    background-color: var(--hover-bg-color);\n",
              "    box-shadow: 0 1px 2px rgba(60, 64, 67, 0.3), 0 1px 3px 1px rgba(60, 64, 67, 0.15);\n",
              "    fill: var(--button-hover-fill-color);\n",
              "  }\n",
              "\n",
              "  .colab-df-quickchart-complete:disabled,\n",
              "  .colab-df-quickchart-complete:disabled:hover {\n",
              "    background-color: var(--disabled-bg-color);\n",
              "    fill: var(--disabled-fill-color);\n",
              "    box-shadow: none;\n",
              "  }\n",
              "\n",
              "  .colab-df-spinner {\n",
              "    border: 2px solid var(--fill-color);\n",
              "    border-color: transparent;\n",
              "    border-bottom-color: var(--fill-color);\n",
              "    animation:\n",
              "      spin 1s steps(1) infinite;\n",
              "  }\n",
              "\n",
              "  @keyframes spin {\n",
              "    0% {\n",
              "      border-color: transparent;\n",
              "      border-bottom-color: var(--fill-color);\n",
              "      border-left-color: var(--fill-color);\n",
              "    }\n",
              "    20% {\n",
              "      border-color: transparent;\n",
              "      border-left-color: var(--fill-color);\n",
              "      border-top-color: var(--fill-color);\n",
              "    }\n",
              "    30% {\n",
              "      border-color: transparent;\n",
              "      border-left-color: var(--fill-color);\n",
              "      border-top-color: var(--fill-color);\n",
              "      border-right-color: var(--fill-color);\n",
              "    }\n",
              "    40% {\n",
              "      border-color: transparent;\n",
              "      border-right-color: var(--fill-color);\n",
              "      border-top-color: var(--fill-color);\n",
              "    }\n",
              "    60% {\n",
              "      border-color: transparent;\n",
              "      border-right-color: var(--fill-color);\n",
              "    }\n",
              "    80% {\n",
              "      border-color: transparent;\n",
              "      border-right-color: var(--fill-color);\n",
              "      border-bottom-color: var(--fill-color);\n",
              "    }\n",
              "    90% {\n",
              "      border-color: transparent;\n",
              "      border-bottom-color: var(--fill-color);\n",
              "    }\n",
              "  }\n",
              "</style>\n",
              "\n",
              "      <script>\n",
              "        async function quickchart(key) {\n",
              "          const quickchartButtonEl =\n",
              "            document.querySelector('#' + key + ' button');\n",
              "          quickchartButtonEl.disabled = true;  // To prevent multiple clicks.\n",
              "          quickchartButtonEl.classList.add('colab-df-spinner');\n",
              "          try {\n",
              "            const charts = await google.colab.kernel.invokeFunction(\n",
              "                'suggestCharts', [key], {});\n",
              "          } catch (error) {\n",
              "            console.error('Error during call to suggestCharts:', error);\n",
              "          }\n",
              "          quickchartButtonEl.classList.remove('colab-df-spinner');\n",
              "          quickchartButtonEl.classList.add('colab-df-quickchart-complete');\n",
              "        }\n",
              "        (() => {\n",
              "          let quickchartButtonEl =\n",
              "            document.querySelector('#df-305ad41b-485e-4750-baa2-9fdd508ee49a button');\n",
              "          quickchartButtonEl.style.display =\n",
              "            google.colab.kernel.accessAllowed ? 'block' : 'none';\n",
              "        })();\n",
              "      </script>\n",
              "    </div>\n",
              "\n",
              "    </div>\n",
              "  </div>\n"
            ],
            "application/vnd.google.colaboratory.intrinsic+json": {
              "type": "dataframe",
              "variable_name": "new_df",
              "summary": "{\n  \"name\": \"new_df\",\n  \"rows\": 1500,\n  \"fields\": [\n    {\n      \"column\": \"ESTC_0\",\n      \"properties\": {\n        \"dtype\": \"number\",\n        \"std\": 0,\n        \"min\": 0,\n        \"max\": 1,\n        \"num_unique_values\": 2,\n        \"samples\": [\n          1,\n          0\n        ],\n        \"semantic_type\": \"\",\n        \"description\": \"\"\n      }\n    },\n    {\n      \"column\": \"ESTC_1\",\n      \"properties\": {\n        \"dtype\": \"number\",\n        \"std\": 0,\n        \"min\": 0,\n        \"max\": 1,\n        \"num_unique_values\": 2,\n        \"samples\": [\n          0,\n          1\n        ],\n        \"semantic_type\": \"\",\n        \"description\": \"\"\n      }\n    },\n    {\n      \"column\": \"ESTC_2\",\n      \"properties\": {\n        \"dtype\": \"number\",\n        \"std\": 0,\n        \"min\": 0,\n        \"max\": 1,\n        \"num_unique_values\": 2,\n        \"samples\": [\n          1,\n          0\n        ],\n        \"semantic_type\": \"\",\n        \"description\": \"\"\n      }\n    },\n    {\n      \"column\": \"ESTC_3\",\n      \"properties\": {\n        \"dtype\": \"number\",\n        \"std\": 0,\n        \"min\": 0,\n        \"max\": 1,\n        \"num_unique_values\": 2,\n        \"samples\": [\n          1,\n          0\n        ],\n        \"semantic_type\": \"\",\n        \"description\": \"\"\n      }\n    },\n    {\n      \"column\": \"NDEP\",\n      \"properties\": {\n        \"dtype\": \"number\",\n        \"std\": 0.08183786091124147,\n        \"min\": 0.0,\n        \"max\": 1.0,\n        \"num_unique_values\": 8,\n        \"samples\": [\n          0.2857142857142857,\n          0.8571428571428571\n        ],\n        \"semantic_type\": \"\",\n        \"description\": \"\"\n      }\n    },\n    {\n      \"column\": \"RENDA\",\n      \"properties\": {\n        \"dtype\": \"number\",\n        \"std\": 0.11760167796262609,\n        \"min\": 0.0,\n        \"max\": 1.0,\n        \"num_unique_values\": 516,\n        \"samples\": [\n          0.13207792207792207,\n          0.08636363636363636\n        ],\n        \"semantic_type\": \"\",\n        \"description\": \"\"\n      }\n    },\n    {\n      \"column\": \"TIPOR_0\",\n      \"properties\": {\n        \"dtype\": \"number\",\n        \"std\": 0,\n        \"min\": 0,\n        \"max\": 1,\n        \"num_unique_values\": 2,\n        \"samples\": [\n          0,\n          1\n        ],\n        \"semantic_type\": \"\",\n        \"description\": \"\"\n      }\n    },\n    {\n      \"column\": \"TIPOR_1\",\n      \"properties\": {\n        \"dtype\": \"number\",\n        \"std\": 0,\n        \"min\": 0,\n        \"max\": 1,\n        \"num_unique_values\": 2,\n        \"samples\": [\n          1,\n          0\n        ],\n        \"semantic_type\": \"\",\n        \"description\": \"\"\n      }\n    },\n    {\n      \"column\": \"VBEM\",\n      \"properties\": {\n        \"dtype\": \"number\",\n        \"std\": 0.07180828269892262,\n        \"min\": 0.0,\n        \"max\": 1.0,\n        \"num_unique_values\": 515,\n        \"samples\": [\n          0.018378378378378378,\n          0.21216216216216216\n        ],\n        \"semantic_type\": \"\",\n        \"description\": \"\"\n      }\n    },\n    {\n      \"column\": \"NPARC\",\n      \"properties\": {\n        \"dtype\": \"number\",\n        \"std\": 0.15691876041582,\n        \"min\": 0.0,\n        \"max\": 1.0,\n        \"num_unique_values\": 16,\n        \"samples\": [\n          0.34782608695652173,\n          0.391304347826087\n        ],\n        \"semantic_type\": \"\",\n        \"description\": \"\"\n      }\n    },\n    {\n      \"column\": \"VPARC\",\n      \"properties\": {\n        \"dtype\": \"number\",\n        \"std\": 0.09529096047707192,\n        \"min\": 0.0,\n        \"max\": 1.0,\n        \"num_unique_values\": 216,\n        \"samples\": [\n          0.3555219364599092,\n          0.19818456883509833\n        ],\n        \"semantic_type\": \"\",\n        \"description\": \"\"\n      }\n    },\n    {\n      \"column\": \"TEL_0\",\n      \"properties\": {\n        \"dtype\": \"number\",\n        \"std\": 0,\n        \"min\": 0,\n        \"max\": 1,\n        \"num_unique_values\": 2,\n        \"samples\": [\n          0,\n          1\n        ],\n        \"semantic_type\": \"\",\n        \"description\": \"\"\n      }\n    },\n    {\n      \"column\": \"TEL_1\",\n      \"properties\": {\n        \"dtype\": \"number\",\n        \"std\": 0,\n        \"min\": 0,\n        \"max\": 1,\n        \"num_unique_values\": 2,\n        \"samples\": [\n          1,\n          0\n        ],\n        \"semantic_type\": \"\",\n        \"description\": \"\"\n      }\n    },\n    {\n      \"column\": \"IDADE\",\n      \"properties\": {\n        \"dtype\": \"number\",\n        \"std\": 0.25886795476961755,\n        \"min\": 0.0,\n        \"max\": 1.0,\n        \"num_unique_values\": 52,\n        \"samples\": [\n          0.6470588235294118,\n          0.9411764705882353\n        ],\n        \"semantic_type\": \"\",\n        \"description\": \"\"\n      }\n    },\n    {\n      \"column\": \"RESMS\",\n      \"properties\": {\n        \"dtype\": \"number\",\n        \"std\": 0.12538595086526516,\n        \"min\": 0.0,\n        \"max\": 1.0,\n        \"num_unique_values\": 54,\n        \"samples\": [\n          0.011904761904761904,\n          0.4523809523809524\n        ],\n        \"semantic_type\": \"\",\n        \"description\": \"\"\n      }\n    },\n    {\n      \"column\": \"ENTRADA\",\n      \"properties\": {\n        \"dtype\": \"number\",\n        \"std\": 0.07254431858623284,\n        \"min\": 0.0,\n        \"max\": 1.0,\n        \"num_unique_values\": 127,\n        \"samples\": [\n          0.046153846153846156,\n          0.09076923076923077\n        ],\n        \"semantic_type\": \"\",\n        \"description\": \"\"\n      }\n    },\n    {\n      \"column\": \"target\",\n      \"properties\": {\n        \"dtype\": \"number\",\n        \"std\": 0,\n        \"min\": 0,\n        \"max\": 1,\n        \"num_unique_values\": 2,\n        \"samples\": [\n          0,\n          1\n        ],\n        \"semantic_type\": \"\",\n        \"description\": \"\"\n      }\n    }\n  ]\n}"
            }
          },
          "metadata": {},
          "execution_count": 22
        }
      ],
      "source": [
        "new_df = transform_data(dataset, normalize=True)\n",
        "new_df.head()"
      ]
    },
    {
      "cell_type": "code",
      "execution_count": 22,
      "metadata": {
        "id": "haL2-YS2xBi9"
      },
      "outputs": [],
      "source": []
    },
    {
      "cell_type": "code",
      "execution_count": 23,
      "metadata": {
        "id": "xCDTPyxfxBi9",
        "outputId": "ba2beec2-6158-40c0-953b-ae26a9c044bc",
        "colab": {
          "base_uri": "https://localhost:8080/"
        }
      },
      "outputs": [
        {
          "output_type": "stream",
          "name": "stdout",
          "text": [
            "Binary classification\n"
          ]
        }
      ],
      "source": [
        "X = new_df.values[:,:-1].astype('float')\n",
        "target = new_df.values[:,-1]\n",
        "\n",
        "encoder = LabelEncoder()\n",
        "y = encoder.fit_transform(target)\n",
        "\n",
        "n_input = X.shape[1]\n",
        "\n",
        "if np.unique(y).shape[0] <= 2:\n",
        "  print('Binary classification')\n",
        "  n_output = 1\n",
        "\n",
        "else:\n",
        "  print('Multiclass classification')\n",
        "  #y = to_categorical(y)\n",
        "  n_output = encoder.classes_.shape[0]\n",
        "\n",
        "\n",
        "X_train, X_test, y_train, y_test = train_test_split(X,y,test_size=0.2,random_state=42)\n",
        "X_train, X_val, y_train, y_val = train_test_split(X_train,y_train,test_size=0.2,random_state=42)"
      ]
    },
    {
      "cell_type": "code",
      "execution_count": 24,
      "metadata": {
        "id": "j9vA9pysxBi9"
      },
      "outputs": [],
      "source": [
        "if binary:\n",
        "    train_dataset = CustomDataset(torch.from_numpy(X_train).float(), torch.from_numpy(y_train).float().unsqueeze(1))\n",
        "    val_dataset = CustomDataset(torch.from_numpy(X_val).float(), torch.from_numpy(y_val).float().unsqueeze(1))\n",
        "    test_dataset = CustomDataset(torch.from_numpy(X_test).float(), torch.from_numpy(y_test).float().unsqueeze(1))\n",
        "else:\n",
        "    train_dataset = CustomDataset(torch.from_numpy(X_train).float(), torch.from_numpy(y_train).long())\n",
        "    val_dataset = CustomDataset(torch.from_numpy(X_val).float(), torch.from_numpy(y_val).long())\n",
        "    test_dataset = CustomDataset(torch.from_numpy(X_test).float(), torch.from_numpy(y_test).long())\n",
        "\n",
        "train_loader = DataLoader(dataset=train_dataset,batch_size=batch_size)\n",
        "val_loader = DataLoader(dataset=val_dataset, batch_size=1)\n",
        "test_loader = DataLoader(dataset=test_dataset, batch_size=1)"
      ]
    },
    {
      "cell_type": "code",
      "execution_count": 25,
      "metadata": {
        "id": "0oNGJwH-xBi-",
        "outputId": "b5d174e4-b00f-426c-8106-24837f2b4fff",
        "colab": {
          "base_uri": "https://localhost:8080/",
          "height": 1000,
          "referenced_widgets": [
            "cd24307b7f4f44029932884993dbcd3f",
            "51378b942a714ebda0f0b2a93616979d",
            "261fe67b4b954b8f916e78edf2b75318",
            "c6ec83db07dd4bc4b140c9c763d547e5",
            "01cc57bda3764e8ab3a34512dbe602df",
            "b5d51c0d508242b8939da996fb7f5219",
            "d4e11b3eb07043cc8f01eb542e6ebd3a",
            "b32221ef642f413584181e825d5eb0a1",
            "3e173c67c80d40f98c6f7369e89d03ed",
            "11ab166356154cebac5fc7ed2c1a0e26",
            "9c83c78955794b1fa30e1976a756f557"
          ]
        }
      },
      "outputs": [
        {
          "output_type": "display_data",
          "data": {
            "text/plain": [
              "  0%|          | 0/250 [00:00<?, ?it/s]"
            ],
            "application/vnd.jupyter.widget-view+json": {
              "version_major": 2,
              "version_minor": 0,
              "model_id": "cd24307b7f4f44029932884993dbcd3f"
            }
          },
          "metadata": {}
        },
        {
          "output_type": "stream",
          "name": "stdout",
          "text": [
            "Epoch 001: | Train Loss: 0.684 | Val Loss: 0.6866 | Train Acc: 55.0667| Val Acc: 52.0000\n",
            "Epoch 002: | Train Loss: 0.682 | Val Loss: 0.6839 | Train Acc: 55.6667| Val Acc: 53.0000\n",
            "Epoch 003: | Train Loss: 0.679 | Val Loss: 0.6812 | Train Acc: 55.5667| Val Acc: 52.0000\n",
            "Epoch 004: | Train Loss: 0.676 | Val Loss: 0.6783 | Train Acc: 55.4667| Val Acc: 54.0000\n",
            "Epoch 005: | Train Loss: 0.673 | Val Loss: 0.6752 | Train Acc: 56.0333| Val Acc: 57.0000\n",
            "Epoch 006: | Train Loss: 0.669 | Val Loss: 0.6719 | Train Acc: 61.5667| Val Acc: 60.0000\n",
            "Epoch 007: | Train Loss: 0.666 | Val Loss: 0.6686 | Train Acc: 64.6333| Val Acc: 62.0000\n",
            "Epoch 008: | Train Loss: 0.662 | Val Loss: 0.6651 | Train Acc: 67.2000| Val Acc: 64.0000\n",
            "Epoch 009: | Train Loss: 0.658 | Val Loss: 0.6615 | Train Acc: 67.7667| Val Acc: 65.0000\n",
            "Epoch 010: | Train Loss: 0.654 | Val Loss: 0.6577 | Train Acc: 68.9667| Val Acc: 67.0000\n",
            "Epoch 011: | Train Loss: 0.650 | Val Loss: 0.6538 | Train Acc: 72.7333| Val Acc: 71.0000\n",
            "Epoch 012: | Train Loss: 0.646 | Val Loss: 0.6497 | Train Acc: 76.4333| Val Acc: 76.0000\n",
            "Epoch 013: | Train Loss: 0.641 | Val Loss: 0.6455 | Train Acc: 78.0000| Val Acc: 78.0000\n",
            "Epoch 014: | Train Loss: 0.637 | Val Loss: 0.6411 | Train Acc: 77.6000| Val Acc: 75.0000\n",
            "Epoch 015: | Train Loss: 0.632 | Val Loss: 0.6366 | Train Acc: 76.7000| Val Acc: 74.0000\n",
            "Epoch 016: | Train Loss: 0.627 | Val Loss: 0.6320 | Train Acc: 76.4000| Val Acc: 74.0000\n",
            "Epoch 017: | Train Loss: 0.622 | Val Loss: 0.6272 | Train Acc: 75.9000| Val Acc: 73.0000\n",
            "Epoch 018: | Train Loss: 0.616 | Val Loss: 0.6224 | Train Acc: 75.2000| Val Acc: 73.0000\n",
            "Epoch 019: | Train Loss: 0.611 | Val Loss: 0.6176 | Train Acc: 75.2333| Val Acc: 73.0000\n",
            "Epoch 020: | Train Loss: 0.606 | Val Loss: 0.6128 | Train Acc: 75.1333| Val Acc: 73.0000\n",
            "Epoch 021: | Train Loss: 0.600 | Val Loss: 0.6079 | Train Acc: 75.1333| Val Acc: 73.0000\n",
            "Epoch 022: | Train Loss: 0.595 | Val Loss: 0.6031 | Train Acc: 75.1333| Val Acc: 73.0000\n",
            "Epoch 023: | Train Loss: 0.589 | Val Loss: 0.5983 | Train Acc: 75.1333| Val Acc: 73.0000\n",
            "Epoch 024: | Train Loss: 0.584 | Val Loss: 0.5936 | Train Acc: 75.1333| Val Acc: 73.0000\n",
            "Epoch 025: | Train Loss: 0.578 | Val Loss: 0.5890 | Train Acc: 75.1333| Val Acc: 73.0000\n",
            "Epoch 026: | Train Loss: 0.573 | Val Loss: 0.5844 | Train Acc: 75.1333| Val Acc: 73.0000\n",
            "Epoch 027: | Train Loss: 0.567 | Val Loss: 0.5800 | Train Acc: 75.1333| Val Acc: 73.0000\n",
            "Epoch 028: | Train Loss: 0.562 | Val Loss: 0.5758 | Train Acc: 75.1333| Val Acc: 73.0000\n",
            "Epoch 029: | Train Loss: 0.557 | Val Loss: 0.5717 | Train Acc: 75.1333| Val Acc: 73.0000\n",
            "Epoch 030: | Train Loss: 0.552 | Val Loss: 0.5677 | Train Acc: 75.1333| Val Acc: 73.0000\n",
            "Epoch 031: | Train Loss: 0.547 | Val Loss: 0.5638 | Train Acc: 75.1333| Val Acc: 73.0000\n",
            "Epoch 032: | Train Loss: 0.543 | Val Loss: 0.5602 | Train Acc: 75.1333| Val Acc: 73.0000\n",
            "Epoch 033: | Train Loss: 0.538 | Val Loss: 0.5567 | Train Acc: 75.1333| Val Acc: 73.0000\n",
            "Epoch 034: | Train Loss: 0.534 | Val Loss: 0.5534 | Train Acc: 75.1333| Val Acc: 73.0000\n",
            "Epoch 035: | Train Loss: 0.530 | Val Loss: 0.5502 | Train Acc: 75.1333| Val Acc: 73.0000\n",
            "Epoch 036: | Train Loss: 0.526 | Val Loss: 0.5471 | Train Acc: 75.1333| Val Acc: 73.0000\n",
            "Epoch 037: | Train Loss: 0.522 | Val Loss: 0.5441 | Train Acc: 75.1333| Val Acc: 73.0000\n",
            "Epoch 038: | Train Loss: 0.518 | Val Loss: 0.5412 | Train Acc: 75.1333| Val Acc: 73.0000\n",
            "Epoch 039: | Train Loss: 0.515 | Val Loss: 0.5384 | Train Acc: 75.1333| Val Acc: 73.0000\n",
            "Epoch 040: | Train Loss: 0.511 | Val Loss: 0.5357 | Train Acc: 75.2333| Val Acc: 73.0000\n",
            "Epoch 041: | Train Loss: 0.508 | Val Loss: 0.5331 | Train Acc: 75.2333| Val Acc: 73.0000\n",
            "Epoch 042: | Train Loss: 0.505 | Val Loss: 0.5306 | Train Acc: 75.3333| Val Acc: 73.0000\n",
            "Epoch 043: | Train Loss: 0.502 | Val Loss: 0.5280 | Train Acc: 75.3333| Val Acc: 73.0000\n",
            "Epoch 044: | Train Loss: 0.499 | Val Loss: 0.5256 | Train Acc: 75.3333| Val Acc: 73.0000\n",
            "Epoch 045: | Train Loss: 0.496 | Val Loss: 0.5231 | Train Acc: 75.5667| Val Acc: 73.0000\n",
            "Epoch 046: | Train Loss: 0.493 | Val Loss: 0.5207 | Train Acc: 75.6667| Val Acc: 73.0000\n",
            "Epoch 047: | Train Loss: 0.490 | Val Loss: 0.5182 | Train Acc: 75.9000| Val Acc: 73.0000\n",
            "Epoch 048: | Train Loss: 0.487 | Val Loss: 0.5157 | Train Acc: 76.0000| Val Acc: 73.0000\n",
            "Epoch 049: | Train Loss: 0.484 | Val Loss: 0.5132 | Train Acc: 76.1000| Val Acc: 73.0000\n",
            "Epoch 050: | Train Loss: 0.481 | Val Loss: 0.5107 | Train Acc: 76.3000| Val Acc: 75.0000\n",
            "Epoch 051: | Train Loss: 0.478 | Val Loss: 0.5082 | Train Acc: 76.4000| Val Acc: 75.0000\n",
            "Epoch 052: | Train Loss: 0.476 | Val Loss: 0.5058 | Train Acc: 76.4000| Val Acc: 75.0000\n",
            "Epoch 053: | Train Loss: 0.473 | Val Loss: 0.5034 | Train Acc: 77.0000| Val Acc: 75.0000\n",
            "Epoch 054: | Train Loss: 0.470 | Val Loss: 0.5010 | Train Acc: 77.4000| Val Acc: 75.0000\n",
            "Epoch 055: | Train Loss: 0.467 | Val Loss: 0.4986 | Train Acc: 77.4000| Val Acc: 75.0000\n",
            "Epoch 056: | Train Loss: 0.465 | Val Loss: 0.4963 | Train Acc: 77.6000| Val Acc: 76.0000\n",
            "Epoch 057: | Train Loss: 0.462 | Val Loss: 0.4939 | Train Acc: 77.8000| Val Acc: 76.0000\n",
            "Epoch 058: | Train Loss: 0.460 | Val Loss: 0.4915 | Train Acc: 78.2000| Val Acc: 76.0000\n",
            "Epoch 059: | Train Loss: 0.457 | Val Loss: 0.4891 | Train Acc: 78.9333| Val Acc: 76.0000\n",
            "Epoch 060: | Train Loss: 0.454 | Val Loss: 0.4867 | Train Acc: 79.1333| Val Acc: 77.0000\n",
            "Epoch 061: | Train Loss: 0.452 | Val Loss: 0.4843 | Train Acc: 79.7333| Val Acc: 77.0000\n",
            "Epoch 062: | Train Loss: 0.449 | Val Loss: 0.4819 | Train Acc: 80.0333| Val Acc: 77.0000\n",
            "Epoch 063: | Train Loss: 0.447 | Val Loss: 0.4795 | Train Acc: 80.3333| Val Acc: 78.0000\n",
            "Epoch 064: | Train Loss: 0.444 | Val Loss: 0.4771 | Train Acc: 80.7667| Val Acc: 78.0000\n",
            "Epoch 065: | Train Loss: 0.442 | Val Loss: 0.4747 | Train Acc: 80.8667| Val Acc: 78.0000\n",
            "Epoch 066: | Train Loss: 0.439 | Val Loss: 0.4723 | Train Acc: 80.8667| Val Acc: 78.0000\n",
            "Epoch 067: | Train Loss: 0.437 | Val Loss: 0.4699 | Train Acc: 81.0667| Val Acc: 78.0000\n",
            "Epoch 068: | Train Loss: 0.434 | Val Loss: 0.4675 | Train Acc: 81.2667| Val Acc: 78.0000\n",
            "Epoch 069: | Train Loss: 0.432 | Val Loss: 0.4652 | Train Acc: 81.7333| Val Acc: 79.0000\n",
            "Epoch 070: | Train Loss: 0.429 | Val Loss: 0.4628 | Train Acc: 82.1000| Val Acc: 79.0000\n",
            "Epoch 071: | Train Loss: 0.427 | Val Loss: 0.4604 | Train Acc: 82.2000| Val Acc: 80.0000\n",
            "Epoch 072: | Train Loss: 0.424 | Val Loss: 0.4581 | Train Acc: 82.3000| Val Acc: 80.0000\n",
            "Epoch 073: | Train Loss: 0.422 | Val Loss: 0.4557 | Train Acc: 82.6333| Val Acc: 80.0000\n",
            "Epoch 074: | Train Loss: 0.420 | Val Loss: 0.4534 | Train Acc: 83.1000| Val Acc: 80.0000\n",
            "Epoch 075: | Train Loss: 0.417 | Val Loss: 0.4511 | Train Acc: 83.1000| Val Acc: 82.0000\n",
            "Epoch 076: | Train Loss: 0.415 | Val Loss: 0.4488 | Train Acc: 83.3333| Val Acc: 82.0000\n",
            "Epoch 077: | Train Loss: 0.413 | Val Loss: 0.4466 | Train Acc: 83.3333| Val Acc: 83.0000\n",
            "Epoch 078: | Train Loss: 0.411 | Val Loss: 0.4443 | Train Acc: 83.2000| Val Acc: 82.0000\n",
            "Epoch 079: | Train Loss: 0.408 | Val Loss: 0.4421 | Train Acc: 83.4667| Val Acc: 82.0000\n",
            "Epoch 080: | Train Loss: 0.406 | Val Loss: 0.4399 | Train Acc: 83.8000| Val Acc: 82.0000\n",
            "Epoch 081: | Train Loss: 0.404 | Val Loss: 0.4377 | Train Acc: 83.9000| Val Acc: 83.0000\n",
            "Epoch 082: | Train Loss: 0.402 | Val Loss: 0.4355 | Train Acc: 84.2000| Val Acc: 83.0000\n",
            "Epoch 083: | Train Loss: 0.400 | Val Loss: 0.4334 | Train Acc: 84.3000| Val Acc: 83.0000\n",
            "Epoch 084: | Train Loss: 0.398 | Val Loss: 0.4313 | Train Acc: 84.7333| Val Acc: 83.0000\n",
            "Epoch 085: | Train Loss: 0.396 | Val Loss: 0.4292 | Train Acc: 84.9333| Val Acc: 83.0000\n",
            "Epoch 086: | Train Loss: 0.394 | Val Loss: 0.4271 | Train Acc: 85.0667| Val Acc: 83.0000\n",
            "Epoch 087: | Train Loss: 0.392 | Val Loss: 0.4251 | Train Acc: 85.2667| Val Acc: 83.0000\n",
            "Epoch 088: | Train Loss: 0.390 | Val Loss: 0.4231 | Train Acc: 85.8000| Val Acc: 84.0000\n",
            "Epoch 089: | Train Loss: 0.388 | Val Loss: 0.4211 | Train Acc: 86.0000| Val Acc: 84.0000\n",
            "Epoch 090: | Train Loss: 0.386 | Val Loss: 0.4192 | Train Acc: 86.3333| Val Acc: 84.0000\n",
            "Epoch 091: | Train Loss: 0.384 | Val Loss: 0.4172 | Train Acc: 86.2333| Val Acc: 84.0000\n",
            "Epoch 092: | Train Loss: 0.382 | Val Loss: 0.4154 | Train Acc: 86.4333| Val Acc: 84.0000\n",
            "Epoch 093: | Train Loss: 0.380 | Val Loss: 0.4135 | Train Acc: 86.6333| Val Acc: 84.0000\n",
            "Epoch 094: | Train Loss: 0.379 | Val Loss: 0.4117 | Train Acc: 87.0667| Val Acc: 85.0000\n",
            "Epoch 095: | Train Loss: 0.377 | Val Loss: 0.4099 | Train Acc: 87.4000| Val Acc: 85.0000\n",
            "Epoch 096: | Train Loss: 0.375 | Val Loss: 0.4082 | Train Acc: 87.4000| Val Acc: 85.0000\n",
            "Epoch 097: | Train Loss: 0.373 | Val Loss: 0.4065 | Train Acc: 87.4333| Val Acc: 85.0000\n",
            "Epoch 098: | Train Loss: 0.372 | Val Loss: 0.4048 | Train Acc: 87.4333| Val Acc: 85.0000\n",
            "Epoch 099: | Train Loss: 0.370 | Val Loss: 0.4031 | Train Acc: 87.4333| Val Acc: 85.0000\n",
            "Epoch 100: | Train Loss: 0.369 | Val Loss: 0.4015 | Train Acc: 87.7667| Val Acc: 85.0000\n",
            "Epoch 101: | Train Loss: 0.367 | Val Loss: 0.3999 | Train Acc: 87.8667| Val Acc: 85.0000\n",
            "Epoch 102: | Train Loss: 0.366 | Val Loss: 0.3984 | Train Acc: 87.6333| Val Acc: 86.0000\n",
            "Epoch 103: | Train Loss: 0.364 | Val Loss: 0.3969 | Train Acc: 87.7333| Val Acc: 86.0000\n",
            "Epoch 104: | Train Loss: 0.363 | Val Loss: 0.3954 | Train Acc: 87.7333| Val Acc: 86.0000\n",
            "Epoch 105: | Train Loss: 0.362 | Val Loss: 0.3940 | Train Acc: 87.7333| Val Acc: 87.0000\n",
            "Epoch 106: | Train Loss: 0.360 | Val Loss: 0.3926 | Train Acc: 87.6000| Val Acc: 87.0000\n",
            "Epoch 107: | Train Loss: 0.359 | Val Loss: 0.3912 | Train Acc: 87.6000| Val Acc: 87.0000\n",
            "Epoch 108: | Train Loss: 0.358 | Val Loss: 0.3897 | Train Acc: 87.7333| Val Acc: 87.0000\n",
            "Epoch 109: | Train Loss: 0.356 | Val Loss: 0.3884 | Train Acc: 87.9667| Val Acc: 87.0000\n",
            "Epoch 110: | Train Loss: 0.355 | Val Loss: 0.3870 | Train Acc: 88.1000| Val Acc: 88.0000\n",
            "Epoch 111: | Train Loss: 0.354 | Val Loss: 0.3858 | Train Acc: 88.1000| Val Acc: 88.0000\n",
            "Epoch 112: | Train Loss: 0.353 | Val Loss: 0.3845 | Train Acc: 87.9667| Val Acc: 87.0000\n",
            "Epoch 113: | Train Loss: 0.352 | Val Loss: 0.3833 | Train Acc: 88.0667| Val Acc: 87.0000\n",
            "Epoch 114: | Train Loss: 0.351 | Val Loss: 0.3821 | Train Acc: 88.1667| Val Acc: 87.0000\n",
            "Epoch 115: | Train Loss: 0.349 | Val Loss: 0.3810 | Train Acc: 88.3000| Val Acc: 87.0000\n",
            "Epoch 116: | Train Loss: 0.348 | Val Loss: 0.3799 | Train Acc: 88.4333| Val Acc: 87.0000\n",
            "Epoch 117: | Train Loss: 0.347 | Val Loss: 0.3788 | Train Acc: 88.4333| Val Acc: 87.0000\n",
            "Epoch 118: | Train Loss: 0.346 | Val Loss: 0.3777 | Train Acc: 88.4333| Val Acc: 87.0000\n",
            "Epoch 119: | Train Loss: 0.345 | Val Loss: 0.3766 | Train Acc: 88.4333| Val Acc: 87.0000\n",
            "Epoch 120: | Train Loss: 0.344 | Val Loss: 0.3756 | Train Acc: 88.4333| Val Acc: 87.0000\n",
            "Epoch 121: | Train Loss: 0.344 | Val Loss: 0.3746 | Train Acc: 88.6333| Val Acc: 87.0000\n",
            "Epoch 122: | Train Loss: 0.343 | Val Loss: 0.3736 | Train Acc: 88.7667| Val Acc: 87.0000\n",
            "Epoch 123: | Train Loss: 0.342 | Val Loss: 0.3726 | Train Acc: 88.8667| Val Acc: 87.0000\n",
            "Epoch 124: | Train Loss: 0.341 | Val Loss: 0.3717 | Train Acc: 88.7333| Val Acc: 87.0000\n",
            "Epoch 125: | Train Loss: 0.340 | Val Loss: 0.3707 | Train Acc: 89.0667| Val Acc: 87.0000\n",
            "Epoch 126: | Train Loss: 0.339 | Val Loss: 0.3699 | Train Acc: 89.0667| Val Acc: 87.0000\n",
            "Epoch 127: | Train Loss: 0.338 | Val Loss: 0.3690 | Train Acc: 89.1667| Val Acc: 87.0000\n",
            "Epoch 128: | Train Loss: 0.338 | Val Loss: 0.3681 | Train Acc: 89.1667| Val Acc: 88.0000\n",
            "Epoch 129: | Train Loss: 0.337 | Val Loss: 0.3673 | Train Acc: 89.1667| Val Acc: 88.0000\n",
            "Epoch 130: | Train Loss: 0.336 | Val Loss: 0.3665 | Train Acc: 89.1667| Val Acc: 88.0000\n",
            "Epoch 131: | Train Loss: 0.335 | Val Loss: 0.3657 | Train Acc: 89.2667| Val Acc: 88.0000\n",
            "Epoch 132: | Train Loss: 0.335 | Val Loss: 0.3649 | Train Acc: 89.2667| Val Acc: 88.0000\n",
            "Epoch 133: | Train Loss: 0.334 | Val Loss: 0.3641 | Train Acc: 89.2667| Val Acc: 88.0000\n",
            "Epoch 134: | Train Loss: 0.333 | Val Loss: 0.3634 | Train Acc: 89.6000| Val Acc: 88.0000\n",
            "Epoch 135: | Train Loss: 0.333 | Val Loss: 0.3626 | Train Acc: 89.6000| Val Acc: 88.0000\n",
            "Epoch 136: | Train Loss: 0.332 | Val Loss: 0.3619 | Train Acc: 89.6000| Val Acc: 88.0000\n",
            "Epoch 137: | Train Loss: 0.332 | Val Loss: 0.3612 | Train Acc: 89.6000| Val Acc: 88.0000\n",
            "Epoch 138: | Train Loss: 0.331 | Val Loss: 0.3606 | Train Acc: 89.6000| Val Acc: 88.0000\n",
            "Epoch 139: | Train Loss: 0.330 | Val Loss: 0.3599 | Train Acc: 89.6000| Val Acc: 88.0000\n",
            "Epoch 140: | Train Loss: 0.330 | Val Loss: 0.3593 | Train Acc: 89.6000| Val Acc: 88.0000\n",
            "Epoch 141: | Train Loss: 0.329 | Val Loss: 0.3587 | Train Acc: 89.6000| Val Acc: 88.0000\n",
            "Epoch 142: | Train Loss: 0.329 | Val Loss: 0.3580 | Train Acc: 89.6000| Val Acc: 88.0000\n",
            "Epoch 143: | Train Loss: 0.328 | Val Loss: 0.3574 | Train Acc: 89.6000| Val Acc: 88.0000\n",
            "Epoch 144: | Train Loss: 0.328 | Val Loss: 0.3569 | Train Acc: 89.7000| Val Acc: 88.0000\n",
            "Epoch 145: | Train Loss: 0.327 | Val Loss: 0.3563 | Train Acc: 89.7000| Val Acc: 88.0000\n",
            "Epoch 146: | Train Loss: 0.327 | Val Loss: 0.3557 | Train Acc: 89.7000| Val Acc: 88.0000\n",
            "Epoch 147: | Train Loss: 0.326 | Val Loss: 0.3552 | Train Acc: 89.8000| Val Acc: 88.0000\n",
            "Epoch 148: | Train Loss: 0.326 | Val Loss: 0.3547 | Train Acc: 89.8000| Val Acc: 88.0000\n",
            "Epoch 149: | Train Loss: 0.325 | Val Loss: 0.3541 | Train Acc: 89.8000| Val Acc: 88.0000\n",
            "Epoch 150: | Train Loss: 0.325 | Val Loss: 0.3536 | Train Acc: 89.8000| Val Acc: 88.0000\n",
            "Epoch 151: | Train Loss: 0.325 | Val Loss: 0.3531 | Train Acc: 89.8000| Val Acc: 88.0000\n",
            "Epoch 152: | Train Loss: 0.324 | Val Loss: 0.3526 | Train Acc: 89.8000| Val Acc: 88.0000\n",
            "Epoch 153: | Train Loss: 0.324 | Val Loss: 0.3522 | Train Acc: 89.8000| Val Acc: 88.0000\n",
            "Epoch 154: | Train Loss: 0.323 | Val Loss: 0.3517 | Train Acc: 89.8000| Val Acc: 88.0000\n",
            "Epoch 155: | Train Loss: 0.323 | Val Loss: 0.3512 | Train Acc: 89.8000| Val Acc: 88.0000\n",
            "Epoch 156: | Train Loss: 0.323 | Val Loss: 0.3508 | Train Acc: 89.9333| Val Acc: 88.0000\n",
            "Epoch 157: | Train Loss: 0.322 | Val Loss: 0.3504 | Train Acc: 90.0333| Val Acc: 88.0000\n",
            "Epoch 158: | Train Loss: 0.322 | Val Loss: 0.3499 | Train Acc: 90.0333| Val Acc: 88.0000\n",
            "Epoch 159: | Train Loss: 0.322 | Val Loss: 0.3495 | Train Acc: 90.0333| Val Acc: 88.0000\n",
            "Epoch 160: | Train Loss: 0.321 | Val Loss: 0.3491 | Train Acc: 90.1333| Val Acc: 88.0000\n",
            "Epoch 161: | Train Loss: 0.321 | Val Loss: 0.3487 | Train Acc: 90.1333| Val Acc: 88.0000\n",
            "Epoch 162: | Train Loss: 0.321 | Val Loss: 0.3483 | Train Acc: 90.2333| Val Acc: 88.0000\n",
            "Epoch 163: | Train Loss: 0.320 | Val Loss: 0.3479 | Train Acc: 90.1333| Val Acc: 88.0000\n",
            "Epoch 164: | Train Loss: 0.320 | Val Loss: 0.3476 | Train Acc: 90.0333| Val Acc: 88.0000\n",
            "Epoch 165: | Train Loss: 0.320 | Val Loss: 0.3472 | Train Acc: 90.0333| Val Acc: 88.0000\n",
            "Epoch 166: | Train Loss: 0.319 | Val Loss: 0.3468 | Train Acc: 90.0333| Val Acc: 88.0000\n",
            "Epoch 167: | Train Loss: 0.319 | Val Loss: 0.3465 | Train Acc: 90.0333| Val Acc: 88.0000\n",
            "Epoch 168: | Train Loss: 0.319 | Val Loss: 0.3461 | Train Acc: 90.0333| Val Acc: 88.0000\n",
            "Epoch 169: | Train Loss: 0.319 | Val Loss: 0.3458 | Train Acc: 90.0333| Val Acc: 88.0000\n",
            "Epoch 170: | Train Loss: 0.318 | Val Loss: 0.3455 | Train Acc: 90.1667| Val Acc: 88.0000\n",
            "Epoch 171: | Train Loss: 0.318 | Val Loss: 0.3452 | Train Acc: 90.1667| Val Acc: 88.0000\n",
            "Epoch 172: | Train Loss: 0.318 | Val Loss: 0.3448 | Train Acc: 90.1667| Val Acc: 88.0000\n",
            "Epoch 173: | Train Loss: 0.318 | Val Loss: 0.3445 | Train Acc: 90.1667| Val Acc: 88.0000\n",
            "Epoch 174: | Train Loss: 0.317 | Val Loss: 0.3442 | Train Acc: 90.0333| Val Acc: 88.0000\n",
            "Epoch 175: | Train Loss: 0.317 | Val Loss: 0.3439 | Train Acc: 90.0333| Val Acc: 88.0000\n",
            "Epoch 176: | Train Loss: 0.317 | Val Loss: 0.3436 | Train Acc: 90.0333| Val Acc: 88.0000\n",
            "Epoch 177: | Train Loss: 0.317 | Val Loss: 0.3434 | Train Acc: 90.0333| Val Acc: 88.0000\n",
            "Epoch 178: | Train Loss: 0.316 | Val Loss: 0.3431 | Train Acc: 90.0333| Val Acc: 88.0000\n",
            "Epoch 179: | Train Loss: 0.316 | Val Loss: 0.3428 | Train Acc: 90.1333| Val Acc: 88.0000\n",
            "Epoch 180: | Train Loss: 0.316 | Val Loss: 0.3425 | Train Acc: 90.1333| Val Acc: 88.0000\n",
            "Epoch 181: | Train Loss: 0.316 | Val Loss: 0.3423 | Train Acc: 90.1333| Val Acc: 88.0000\n",
            "Epoch 182: | Train Loss: 0.316 | Val Loss: 0.3420 | Train Acc: 90.1333| Val Acc: 88.0000\n",
            "Epoch 183: | Train Loss: 0.315 | Val Loss: 0.3418 | Train Acc: 90.1333| Val Acc: 88.0000\n",
            "Epoch 184: | Train Loss: 0.315 | Val Loss: 0.3415 | Train Acc: 90.1333| Val Acc: 88.0000\n",
            "Epoch 185: | Train Loss: 0.315 | Val Loss: 0.3413 | Train Acc: 90.1333| Val Acc: 88.0000\n",
            "Epoch 186: | Train Loss: 0.315 | Val Loss: 0.3410 | Train Acc: 90.1333| Val Acc: 88.0000\n",
            "Epoch 187: | Train Loss: 0.315 | Val Loss: 0.3408 | Train Acc: 90.1333| Val Acc: 88.0000\n",
            "Epoch 188: | Train Loss: 0.315 | Val Loss: 0.3406 | Train Acc: 90.1333| Val Acc: 88.0000\n",
            "Epoch 189: | Train Loss: 0.314 | Val Loss: 0.3403 | Train Acc: 90.1333| Val Acc: 88.0000\n",
            "Epoch 190: | Train Loss: 0.314 | Val Loss: 0.3401 | Train Acc: 90.1333| Val Acc: 88.0000\n",
            "Epoch 191: | Train Loss: 0.314 | Val Loss: 0.3399 | Train Acc: 90.3333| Val Acc: 89.0000\n",
            "Epoch 192: | Train Loss: 0.314 | Val Loss: 0.3397 | Train Acc: 90.4333| Val Acc: 89.0000\n",
            "Epoch 193: | Train Loss: 0.314 | Val Loss: 0.3395 | Train Acc: 90.4333| Val Acc: 89.0000\n",
            "Epoch 194: | Train Loss: 0.314 | Val Loss: 0.3393 | Train Acc: 90.4333| Val Acc: 89.0000\n",
            "Epoch 195: | Train Loss: 0.314 | Val Loss: 0.3391 | Train Acc: 90.4333| Val Acc: 89.0000\n",
            "Epoch 196: | Train Loss: 0.313 | Val Loss: 0.3389 | Train Acc: 90.4333| Val Acc: 89.0000\n",
            "Epoch 197: | Train Loss: 0.313 | Val Loss: 0.3387 | Train Acc: 90.3333| Val Acc: 89.0000\n",
            "Epoch 198: | Train Loss: 0.313 | Val Loss: 0.3385 | Train Acc: 90.3333| Val Acc: 89.0000\n",
            "Epoch 199: | Train Loss: 0.313 | Val Loss: 0.3383 | Train Acc: 90.3333| Val Acc: 89.0000\n",
            "Epoch 200: | Train Loss: 0.313 | Val Loss: 0.3381 | Train Acc: 90.3333| Val Acc: 89.0000\n",
            "Epoch 201: | Train Loss: 0.313 | Val Loss: 0.3379 | Train Acc: 90.3333| Val Acc: 89.0000\n",
            "Epoch 202: | Train Loss: 0.313 | Val Loss: 0.3378 | Train Acc: 90.3333| Val Acc: 89.0000\n",
            "Epoch 203: | Train Loss: 0.313 | Val Loss: 0.3376 | Train Acc: 90.3333| Val Acc: 89.0000\n",
            "Epoch 204: | Train Loss: 0.312 | Val Loss: 0.3374 | Train Acc: 90.3333| Val Acc: 89.0000\n",
            "Epoch 205: | Train Loss: 0.312 | Val Loss: 0.3372 | Train Acc: 90.3333| Val Acc: 89.0000\n",
            "Epoch 206: | Train Loss: 0.312 | Val Loss: 0.3371 | Train Acc: 90.3333| Val Acc: 89.0000\n",
            "Epoch 207: | Train Loss: 0.312 | Val Loss: 0.3369 | Train Acc: 90.3333| Val Acc: 89.0000\n",
            "Epoch 208: | Train Loss: 0.312 | Val Loss: 0.3368 | Train Acc: 90.3333| Val Acc: 89.0000\n",
            "Epoch 209: | Train Loss: 0.312 | Val Loss: 0.3366 | Train Acc: 90.2333| Val Acc: 89.0000\n",
            "Epoch 210: | Train Loss: 0.312 | Val Loss: 0.3364 | Train Acc: 90.2333| Val Acc: 89.0000\n",
            "Epoch 211: | Train Loss: 0.312 | Val Loss: 0.3363 | Train Acc: 90.2333| Val Acc: 89.0000\n",
            "Epoch 212: | Train Loss: 0.312 | Val Loss: 0.3361 | Train Acc: 90.2333| Val Acc: 89.0000\n",
            "Epoch 213: | Train Loss: 0.312 | Val Loss: 0.3360 | Train Acc: 90.2333| Val Acc: 89.0000\n",
            "Epoch 214: | Train Loss: 0.311 | Val Loss: 0.3359 | Train Acc: 90.2333| Val Acc: 89.0000\n",
            "Epoch 215: | Train Loss: 0.311 | Val Loss: 0.3357 | Train Acc: 90.2333| Val Acc: 89.0000\n",
            "Epoch 216: | Train Loss: 0.311 | Val Loss: 0.3356 | Train Acc: 90.2333| Val Acc: 89.0000\n",
            "Epoch 217: | Train Loss: 0.311 | Val Loss: 0.3354 | Train Acc: 90.3333| Val Acc: 89.0000\n",
            "Epoch 218: | Train Loss: 0.311 | Val Loss: 0.3353 | Train Acc: 90.4333| Val Acc: 89.0000\n",
            "Epoch 219: | Train Loss: 0.311 | Val Loss: 0.3352 | Train Acc: 90.4333| Val Acc: 89.0000\n",
            "Epoch 220: | Train Loss: 0.311 | Val Loss: 0.3350 | Train Acc: 90.4333| Val Acc: 89.0000\n",
            "Epoch 221: | Train Loss: 0.311 | Val Loss: 0.3349 | Train Acc: 90.3000| Val Acc: 89.0000\n",
            "Epoch 222: | Train Loss: 0.311 | Val Loss: 0.3348 | Train Acc: 90.3000| Val Acc: 89.0000\n",
            "Epoch 223: | Train Loss: 0.311 | Val Loss: 0.3347 | Train Acc: 90.3000| Val Acc: 89.0000\n",
            "Epoch 224: | Train Loss: 0.311 | Val Loss: 0.3345 | Train Acc: 90.3000| Val Acc: 89.0000\n",
            "Epoch 225: | Train Loss: 0.311 | Val Loss: 0.3344 | Train Acc: 90.3000| Val Acc: 89.0000\n",
            "Epoch 226: | Train Loss: 0.311 | Val Loss: 0.3343 | Train Acc: 90.3000| Val Acc: 90.0000\n",
            "Epoch 227: | Train Loss: 0.310 | Val Loss: 0.3342 | Train Acc: 90.3000| Val Acc: 90.0000\n",
            "Epoch 228: | Train Loss: 0.310 | Val Loss: 0.3341 | Train Acc: 90.3000| Val Acc: 90.0000\n",
            "Epoch 229: | Train Loss: 0.310 | Val Loss: 0.3340 | Train Acc: 90.3000| Val Acc: 90.0000\n",
            "Epoch 230: | Train Loss: 0.310 | Val Loss: 0.3338 | Train Acc: 90.3000| Val Acc: 90.0000\n",
            "Epoch 231: | Train Loss: 0.310 | Val Loss: 0.3337 | Train Acc: 90.3000| Val Acc: 90.0000\n",
            "Epoch 232: | Train Loss: 0.310 | Val Loss: 0.3336 | Train Acc: 90.3000| Val Acc: 90.0000\n",
            "Epoch 233: | Train Loss: 0.310 | Val Loss: 0.3335 | Train Acc: 90.3000| Val Acc: 89.0000\n",
            "Epoch 234: | Train Loss: 0.310 | Val Loss: 0.3334 | Train Acc: 90.0000| Val Acc: 89.0000\n",
            "Epoch 235: | Train Loss: 0.310 | Val Loss: 0.3333 | Train Acc: 90.0000| Val Acc: 89.0000\n",
            "Epoch 236: | Train Loss: 0.310 | Val Loss: 0.3332 | Train Acc: 90.0000| Val Acc: 89.0000\n",
            "Epoch 237: | Train Loss: 0.310 | Val Loss: 0.3331 | Train Acc: 90.0000| Val Acc: 89.0000\n",
            "Epoch 238: | Train Loss: 0.310 | Val Loss: 0.3330 | Train Acc: 90.0000| Val Acc: 89.0000\n",
            "Epoch 239: | Train Loss: 0.310 | Val Loss: 0.3329 | Train Acc: 90.0000| Val Acc: 89.0000\n",
            "Epoch 240: | Train Loss: 0.310 | Val Loss: 0.3328 | Train Acc: 90.0000| Val Acc: 90.0000\n",
            "Epoch 241: | Train Loss: 0.310 | Val Loss: 0.3327 | Train Acc: 90.0000| Val Acc: 90.0000\n",
            "Epoch 242: | Train Loss: 0.310 | Val Loss: 0.3326 | Train Acc: 90.0000| Val Acc: 90.0000\n",
            "Epoch 243: | Train Loss: 0.310 | Val Loss: 0.3325 | Train Acc: 90.0000| Val Acc: 90.0000\n",
            "Epoch 244: | Train Loss: 0.309 | Val Loss: 0.3324 | Train Acc: 90.0000| Val Acc: 90.0000\n",
            "Epoch 245: | Train Loss: 0.309 | Val Loss: 0.3323 | Train Acc: 90.0000| Val Acc: 90.0000\n",
            "Epoch 246: | Train Loss: 0.309 | Val Loss: 0.3322 | Train Acc: 90.0000| Val Acc: 90.0000\n",
            "Epoch 247: | Train Loss: 0.309 | Val Loss: 0.3321 | Train Acc: 90.0000| Val Acc: 90.0000\n",
            "Epoch 248: | Train Loss: 0.309 | Val Loss: 0.3321 | Train Acc: 90.0000| Val Acc: 90.0000\n",
            "Epoch 249: | Train Loss: 0.309 | Val Loss: 0.3320 | Train Acc: 90.0000| Val Acc: 90.0000\n",
            "Epoch 250: | Train Loss: 0.309 | Val Loss: 0.3319 | Train Acc: 90.0000| Val Acc: 90.0000\n"
          ]
        }
      ],
      "source": [
        "model = NeuralNetwork(n_input = n_input, n_output=n_output,output_activation='sigmoid')\n",
        "history, y_hat = train(model, train_loader, val_dataset, epochs=epochs, lr=lr, device=device, binary=binary)"
      ]
    },
    {
      "cell_type": "markdown",
      "metadata": {
        "id": "xnZOKX3XxBi-"
      },
      "source": [
        "#### Resposta"
      ]
    },
    {
      "cell_type": "code",
      "execution_count": 26,
      "metadata": {
        "id": "OXFlhgiOxBi-"
      },
      "outputs": [],
      "source": [
        "y_pred = model.predict(test_dataset.X_data,binary=binary)\n"
      ]
    },
    {
      "cell_type": "code",
      "execution_count": 27,
      "metadata": {
        "id": "fjMBv8xfxBi-",
        "outputId": "2412aebc-254d-43d7-c635-570c4fe9479a",
        "colab": {
          "base_uri": "https://localhost:8080/",
          "height": 798
        }
      },
      "outputs": [
        {
          "output_type": "stream",
          "name": "stdout",
          "text": [
            "              precision    recall  f1-score   support\n",
            "\n",
            "           0       0.87      0.96      0.91       164\n",
            "           1       0.95      0.82      0.88       136\n",
            "\n",
            "    accuracy                           0.90       300\n",
            "   macro avg       0.91      0.89      0.90       300\n",
            "weighted avg       0.90      0.90      0.90       300\n",
            "\n"
          ]
        },
        {
          "output_type": "display_data",
          "data": {
            "text/plain": [
              "<Figure size 800x600 with 2 Axes>"
            ],
            "image/png": "[encoded data removed]"
          },
          "metadata": {}
        }
      ],
      "source": [
        "print(classification_report(y_test, y_pred))\n",
        "\n",
        "cm = confusion_matrix(y_test, y_pred)\n",
        "\n",
        "plot_confusion_matrix(cm)"
      ]
    },
    {
      "cell_type": "markdown",
      "metadata": {
        "id": "D7cWvJCFgPWV"
      },
      "source": [
        "### 2)\tModifique o tempo de treinamento (épocas) da Rede Neural. Escolha valores distintos (e.g. 1 e 1000 épocas) e avalie os resultados."
      ]
    },
    {
      "cell_type": "markdown",
      "metadata": {
        "id": "w-7UtnU9gPWW"
      },
      "source": [
        "#### Rascunho"
      ]
    },
    {
      "cell_type": "code",
      "execution_count": 27,
      "metadata": {
        "id": "mWeBg2aegPWX"
      },
      "outputs": [],
      "source": []
    },
    {
      "cell_type": "code",
      "execution_count": 27,
      "metadata": {
        "id": "4Bi4sljdgPWY"
      },
      "outputs": [],
      "source": []
    },
    {
      "cell_type": "markdown",
      "metadata": {
        "id": "XSHP-OfzgPWZ"
      },
      "source": [
        "#### Resposta"
      ]
    },
    {
      "cell_type": "code",
      "execution_count": 27,
      "metadata": {
        "id": "jz5i-4AggPWa"
      },
      "outputs": [],
      "source": []
    },
    {
      "cell_type": "code",
      "execution_count": 27,
      "metadata": {
        "id": "U_M_0gobgPWb"
      },
      "outputs": [],
      "source": []
    },
    {
      "cell_type": "markdown",
      "metadata": {
        "id": "fvTj11HjgPWc"
      },
      "source": [
        "### 3)\t Modifique a taxa de aprendizado da Rede Neural. Escolha valores distintos (e.g. 0,001 e 0,1) e avalie os resultados."
      ]
    },
    {
      "cell_type": "markdown",
      "metadata": {
        "id": "dk2JosYggPWd"
      },
      "source": [
        "#### Rascunho"
      ]
    },
    {
      "cell_type": "code",
      "execution_count": 27,
      "metadata": {
        "id": "wG5CiivfgPWe"
      },
      "outputs": [],
      "source": []
    },
    {
      "cell_type": "code",
      "execution_count": 27,
      "metadata": {
        "id": "JJkYToMWgPWf"
      },
      "outputs": [],
      "source": []
    },
    {
      "cell_type": "code",
      "execution_count": 27,
      "metadata": {
        "id": "mWfo8qx9gPWg"
      },
      "outputs": [],
      "source": []
    },
    {
      "cell_type": "markdown",
      "metadata": {
        "id": "rVmTwvkggPWh"
      },
      "source": [
        "#### Resposta"
      ]
    },
    {
      "cell_type": "code",
      "execution_count": 27,
      "metadata": {
        "id": "PTr_1qMNgPWi"
      },
      "outputs": [],
      "source": []
    },
    {
      "cell_type": "code",
      "execution_count": 27,
      "metadata": {
        "id": "wHY877-RgPWj"
      },
      "outputs": [],
      "source": []
    },
    {
      "cell_type": "code",
      "execution_count": 27,
      "metadata": {
        "id": "0m0tmG1egPWk"
      },
      "outputs": [],
      "source": []
    },
    {
      "cell_type": "markdown",
      "metadata": {
        "id": "EzIc3RZMgPWk"
      },
      "source": [
        "### 4)\tModifique a quantidade de neurônios na camada escondida da Rede Neural. Escolha valores distintos (e.g. 2 e 70 neurônios) e avalie os resultados."
      ]
    },
    {
      "cell_type": "markdown",
      "metadata": {
        "id": "GHCO6w-2gPWl"
      },
      "source": [
        "#### Rascunho"
      ]
    },
    {
      "cell_type": "code",
      "execution_count": 27,
      "metadata": {
        "id": "JsPDeM4IgPWm"
      },
      "outputs": [],
      "source": []
    },
    {
      "cell_type": "code",
      "execution_count": 27,
      "metadata": {
        "id": "ESzdXPO1gPWn"
      },
      "outputs": [],
      "source": []
    },
    {
      "cell_type": "code",
      "execution_count": 27,
      "metadata": {
        "id": "w4v2Y7kngPWp"
      },
      "outputs": [],
      "source": []
    },
    {
      "cell_type": "code",
      "execution_count": 27,
      "metadata": {
        "id": "olKNpJ2lgPWq"
      },
      "outputs": [],
      "source": []
    },
    {
      "cell_type": "markdown",
      "metadata": {
        "id": "WQIl4IUTgPWr"
      },
      "source": [
        "#### Resposta"
      ]
    },
    {
      "cell_type": "code",
      "execution_count": 27,
      "metadata": {
        "id": "y1Ue7kAkgPWs"
      },
      "outputs": [],
      "source": []
    },
    {
      "cell_type": "code",
      "execution_count": 27,
      "metadata": {
        "id": "p3WyH06FgPWt"
      },
      "outputs": [],
      "source": []
    },
    {
      "cell_type": "code",
      "execution_count": 27,
      "metadata": {
        "id": "yoP80Kx8gPWt"
      },
      "outputs": [],
      "source": []
    },
    {
      "cell_type": "markdown",
      "metadata": {
        "id": "QiM6sFTOgPWt"
      },
      "source": [
        "## Parte IV - Usando outras técnicas para Redes Neurais\n",
        "Total: 3,0 pts."
      ]
    },
    {
      "cell_type": "markdown",
      "metadata": {
        "id": "W4N5TPCaxBjD"
      },
      "source": [
        "### 1)\tImplemente a técnica de parada antecipada (Early Stopping) usando o conjunto de validação. Avalie o resultado obtido.\n",
        "\n",
        "OBS: para essa questão, copie a função `train` do arquivo `model_utils.py`, copie neste notebook e faça as adaptações necessárias."
      ]
    },
    {
      "cell_type": "markdown",
      "metadata": {
        "id": "OLrNLHH1xBjD"
      },
      "source": [
        "#### Rascunho"
      ]
    },
    {
      "cell_type": "code",
      "execution_count": 27,
      "metadata": {
        "id": "9svb19DcxBjD"
      },
      "outputs": [],
      "source": []
    },
    {
      "cell_type": "code",
      "execution_count": 27,
      "metadata": {
        "id": "-pITlaxwxBjD"
      },
      "outputs": [],
      "source": []
    },
    {
      "cell_type": "markdown",
      "metadata": {
        "id": "PnAPHz8oxBjD"
      },
      "source": [
        "#### Resposta"
      ]
    },
    {
      "cell_type": "code",
      "execution_count": 27,
      "metadata": {
        "id": "1ys-UYCLxBjD"
      },
      "outputs": [],
      "source": []
    },
    {
      "cell_type": "code",
      "execution_count": 27,
      "metadata": {
        "id": "jpxSBt5dxBjE"
      },
      "outputs": [],
      "source": []
    },
    {
      "cell_type": "code",
      "execution_count": 27,
      "metadata": {
        "id": "BFLEGUESxBjE"
      },
      "outputs": [],
      "source": []
    },
    {
      "cell_type": "markdown",
      "metadata": {
        "id": "UW_TArx3gPWw"
      },
      "source": [
        "### 2)\tFaça novos testes para avaliar o desempenho da Rede Neural no problema designado usando a técnica K-Fold (com K = 10). Comente o resultado obtido.\n",
        "\n",
        "Dica: não é necessário utilizar a ferramenta KFold do scikit-learn para o desenvolvimento deste item. Uma alternativa <b> simples </b> é fazer um *for loop*, selecionando os índices em bloco."
      ]
    },
    {
      "cell_type": "markdown",
      "metadata": {
        "id": "92fLmxFxgPWx"
      },
      "source": [
        "#### Rascunho"
      ]
    },
    {
      "cell_type": "code",
      "execution_count": 27,
      "metadata": {
        "id": "FdAq5uP8gPWx"
      },
      "outputs": [],
      "source": []
    },
    {
      "cell_type": "code",
      "execution_count": 27,
      "metadata": {
        "id": "JKQCChIwgPWy"
      },
      "outputs": [],
      "source": []
    },
    {
      "cell_type": "markdown",
      "metadata": {
        "id": "OJDcfjeRgPWz"
      },
      "source": [
        "#### Resposta"
      ]
    },
    {
      "cell_type": "code",
      "execution_count": 27,
      "metadata": {
        "id": "VEYXeqiWgPW0"
      },
      "outputs": [],
      "source": []
    },
    {
      "cell_type": "markdown",
      "metadata": {
        "id": "jMCbzZPCgPW0"
      },
      "source": [
        "### 3)\tFaça análises e novas implementações que você julgue importante para o seu trabalho. Não esqueça de explicar a motivação da análise realizada."
      ]
    },
    {
      "cell_type": "markdown",
      "metadata": {
        "id": "idqI-vD9gPW1"
      },
      "source": [
        "#### Rascunho"
      ]
    },
    {
      "cell_type": "code",
      "execution_count": 27,
      "metadata": {
        "id": "1cADcwqogPW4"
      },
      "outputs": [],
      "source": []
    },
    {
      "cell_type": "markdown",
      "metadata": {
        "id": "xUgWaWBbgPXE"
      },
      "source": [
        "#### Resposta"
      ]
    },
    {
      "cell_type": "code",
      "execution_count": 27,
      "metadata": {
        "id": "P_-ocy_LgPXG"
      },
      "outputs": [],
      "source": []
    }
  ],
  "metadata": {
    "colab": {
      "collapsed_sections": [
        "dk2JosYggPWd",
        "rVmTwvkggPWh",
        "idqI-vD9gPW1",
        "xUgWaWBbgPXE"
      ],
      "name": "class_pratica1.ipynb",
      "provenance": []
    },
    "kernelspec": {
      "display_name": "Python 3",
      "language": "python",
      "name": "python3"
    },
    "language_info": {
      "codemirror_mode": {
        "name": "ipython",
        "version": 3
      },
      "file_extension": ".py",
      "mimetype": "text/x-python",
      "name": "python",
      "nbconvert_exporter": "python",
      "pygments_lexer": "ipython3",
      "version": "3.10.4 (tags/v3.10.4:9d38120, Mar 23 2022, 23:13:41) [MSC v.1929 64 bit (AMD64)]"
    },
    "vscode": {
      "interpreter": {
        "hash": "d044c6e0ce06759120adefce77398d00e1228e64d92f3f185fbd024a7701b8e0"
      }
    },
    "widgets": {
      "application/vnd.jupyter.widget-state+json": {
        "a62800798f4d4342804f59938e054b68": {
          "model_module": "@jupyter-widgets/controls",
          "model_name": "HBoxModel",
          "model_module_version": "1.5.0",
          "state": {
            "_dom_classes": [],
            "_model_module": "@jupyter-widgets/controls",
            "_model_module_version": "1.5.0",
            "_model_name": "HBoxModel",
            "_view_count": null,
            "_view_module": "@jupyter-widgets/controls",
            "_view_module_version": "1.5.0",
            "_view_name": "HBoxView",
            "box_style": "",
            "children": [
              "IPY_MODEL_9ede1519d7bc490aad015d741fb9db3b",
              "IPY_MODEL_75042d34f54e48de9170cf5bdda86aa4",
              "IPY_MODEL_a711d8e73a054cfc8559c818b9ec29ed"
            ],
            "layout": "IPY_MODEL_f4a7b48c688b4b68b539d3a7fb8f287f"
          }
        },
        "9ede1519d7bc490aad015d741fb9db3b": {
          "model_module": "@jupyter-widgets/controls",
          "model_name": "HTMLModel",
          "model_module_version": "1.5.0",
          "state": {
            "_dom_classes": [],
            "_model_module": "@jupyter-widgets/controls",
            "_model_module_version": "1.5.0",
            "_model_name": "HTMLModel",
            "_view_count": null,
            "_view_module": "@jupyter-widgets/controls",
            "_view_module_version": "1.5.0",
            "_view_name": "HTMLView",
            "description": "",
            "description_tooltip": null,
            "layout": "IPY_MODEL_3df96670844c4526b84c80922b0f1b8b",
            "placeholder": "​",
            "style": "IPY_MODEL_b7bf992dc71141099c7d5e55f15e2f82",
            "value": "100%"
          }
        },
        "75042d34f54e48de9170cf5bdda86aa4": {
          "model_module": "@jupyter-widgets/controls",
          "model_name": "FloatProgressModel",
          "model_module_version": "1.5.0",
          "state": {
            "_dom_classes": [],
            "_model_module": "@jupyter-widgets/controls",
            "_model_module_version": "1.5.0",
            "_model_name": "FloatProgressModel",
            "_view_count": null,
            "_view_module": "@jupyter-widgets/controls",
            "_view_module_version": "1.5.0",
            "_view_name": "ProgressView",
            "bar_style": "success",
            "description": "",
            "description_tooltip": null,
            "layout": "IPY_MODEL_8e5b2b29613d49abaa68b95f6fa7f3cb",
            "max": 250,
            "min": 0,
            "orientation": "horizontal",
            "style": "IPY_MODEL_be33e6acdf8f47388aa1367dc3158944",
            "value": 250
          }
        },
        "a711d8e73a054cfc8559c818b9ec29ed": {
          "model_module": "@jupyter-widgets/controls",
          "model_name": "HTMLModel",
          "model_module_version": "1.5.0",
          "state": {
            "_dom_classes": [],
            "_model_module": "@jupyter-widgets/controls",
            "_model_module_version": "1.5.0",
            "_model_name": "HTMLModel",
            "_view_count": null,
            "_view_module": "@jupyter-widgets/controls",
            "_view_module_version": "1.5.0",
            "_view_name": "HTMLView",
            "description": "",
            "description_tooltip": null,
            "layout": "IPY_MODEL_219d2426c38647f18ca89fc5e1ed5e55",
            "placeholder": "​",
            "style": "IPY_MODEL_b4482eb1d43045cd971d3761a92c00fc",
            "value": " 250/250 [00:09&lt;00:00, 20.03it/s]"
          }
        },
        "f4a7b48c688b4b68b539d3a7fb8f287f": {
          "model_module": "@jupyter-widgets/base",
          "model_name": "LayoutModel",
          "model_module_version": "1.2.0",
          "state": {
            "_model_module": "@jupyter-widgets/base",
            "_model_module_version": "1.2.0",
            "_model_name": "LayoutModel",
            "_view_count": null,
            "_view_module": "@jupyter-widgets/base",
            "_view_module_version": "1.2.0",
            "_view_name": "LayoutView",
            "align_content": null,
            "align_items": null,
            "align_self": null,
            "border": null,
            "bottom": null,
            "display": null,
            "flex": null,
            "flex_flow": null,
            "grid_area": null,
            "grid_auto_columns": null,
            "grid_auto_flow": null,
            "grid_auto_rows": null,
            "grid_column": null,
            "grid_gap": null,
            "grid_row": null,
            "grid_template_areas": null,
            "grid_template_columns": null,
            "grid_template_rows": null,
            "height": null,
            "justify_content": null,
            "justify_items": null,
            "left": null,
            "margin": null,
            "max_height": null,
            "max_width": null,
            "min_height": null,
            "min_width": null,
            "object_fit": null,
            "object_position": null,
            "order": null,
            "overflow": null,
            "overflow_x": null,
            "overflow_y": null,
            "padding": null,
            "right": null,
            "top": null,
            "visibility": null,
            "width": null
          }
        },
        "3df96670844c4526b84c80922b0f1b8b": {
          "model_module": "@jupyter-widgets/base",
          "model_name": "LayoutModel",
          "model_module_version": "1.2.0",
          "state": {
            "_model_module": "@jupyter-widgets/base",
            "_model_module_version": "1.2.0",
            "_model_name": "LayoutModel",
            "_view_count": null,
            "_view_module": "@jupyter-widgets/base",
            "_view_module_version": "1.2.0",
            "_view_name": "LayoutView",
            "align_content": null,
            "align_items": null,
            "align_self": null,
            "border": null,
            "bottom": null,
            "display": null,
            "flex": null,
            "flex_flow": null,
            "grid_area": null,
            "grid_auto_columns": null,
            "grid_auto_flow": null,
            "grid_auto_rows": null,
            "grid_column": null,
            "grid_gap": null,
            "grid_row": null,
            "grid_template_areas": null,
            "grid_template_columns": null,
            "grid_template_rows": null,
            "height": null,
            "justify_content": null,
            "justify_items": null,
            "left": null,
            "margin": null,
            "max_height": null,
            "max_width": null,
            "min_height": null,
            "min_width": null,
            "object_fit": null,
            "object_position": null,
            "order": null,
            "overflow": null,
            "overflow_x": null,
            "overflow_y": null,
            "padding": null,
            "right": null,
            "top": null,
            "visibility": null,
            "width": null
          }
        },
        "b7bf992dc71141099c7d5e55f15e2f82": {
          "model_module": "@jupyter-widgets/controls",
          "model_name": "DescriptionStyleModel",
          "model_module_version": "1.5.0",
          "state": {
            "_model_module": "@jupyter-widgets/controls",
            "_model_module_version": "1.5.0",
            "_model_name": "DescriptionStyleModel",
            "_view_count": null,
            "_view_module": "@jupyter-widgets/base",
            "_view_module_version": "1.2.0",
            "_view_name": "StyleView",
            "description_width": ""
          }
        },
        "8e5b2b29613d49abaa68b95f6fa7f3cb": {
          "model_module": "@jupyter-widgets/base",
          "model_name": "LayoutModel",
          "model_module_version": "1.2.0",
          "state": {
            "_model_module": "@jupyter-widgets/base",
            "_model_module_version": "1.2.0",
            "_model_name": "LayoutModel",
            "_view_count": null,
            "_view_module": "@jupyter-widgets/base",
            "_view_module_version": "1.2.0",
            "_view_name": "LayoutView",
            "align_content": null,
            "align_items": null,
            "align_self": null,
            "border": null,
            "bottom": null,
            "display": null,
            "flex": null,
            "flex_flow": null,
            "grid_area": null,
            "grid_auto_columns": null,
            "grid_auto_flow": null,
            "grid_auto_rows": null,
            "grid_column": null,
            "grid_gap": null,
            "grid_row": null,
            "grid_template_areas": null,
            "grid_template_columns": null,
            "grid_template_rows": null,
            "height": null,
            "justify_content": null,
            "justify_items": null,
            "left": null,
            "margin": null,
            "max_height": null,
            "max_width": null,
            "min_height": null,
            "min_width": null,
            "object_fit": null,
            "object_position": null,
            "order": null,
            "overflow": null,
            "overflow_x": null,
            "overflow_y": null,
            "padding": null,
            "right": null,
            "top": null,
            "visibility": null,
            "width": null
          }
        },
        "be33e6acdf8f47388aa1367dc3158944": {
          "model_module": "@jupyter-widgets/controls",
          "model_name": "ProgressStyleModel",
          "model_module_version": "1.5.0",
          "state": {
            "_model_module": "@jupyter-widgets/controls",
            "_model_module_version": "1.5.0",
            "_model_name": "ProgressStyleModel",
            "_view_count": null,
            "_view_module": "@jupyter-widgets/base",
            "_view_module_version": "1.2.0",
            "_view_name": "StyleView",
            "bar_color": null,
            "description_width": ""
          }
        },
        "219d2426c38647f18ca89fc5e1ed5e55": {
          "model_module": "@jupyter-widgets/base",
          "model_name": "LayoutModel",
          "model_module_version": "1.2.0",
          "state": {
            "_model_module": "@jupyter-widgets/base",
            "_model_module_version": "1.2.0",
            "_model_name": "LayoutModel",
            "_view_count": null,
            "_view_module": "@jupyter-widgets/base",
            "_view_module_version": "1.2.0",
            "_view_name": "LayoutView",
            "align_content": null,
            "align_items": null,
            "align_self": null,
            "border": null,
            "bottom": null,
            "display": null,
            "flex": null,
            "flex_flow": null,
            "grid_area": null,
            "grid_auto_columns": null,
            "grid_auto_flow": null,
            "grid_auto_rows": null,
            "grid_column": null,
            "grid_gap": null,
            "grid_row": null,
            "grid_template_areas": null,
            "grid_template_columns": null,
            "grid_template_rows": null,
            "height": null,
            "justify_content": null,
            "justify_items": null,
            "left": null,
            "margin": null,
            "max_height": null,
            "max_width": null,
            "min_height": null,
            "min_width": null,
            "object_fit": null,
            "object_position": null,
            "order": null,
            "overflow": null,
            "overflow_x": null,
            "overflow_y": null,
            "padding": null,
            "right": null,
            "top": null,
            "visibility": null,
            "width": null
          }
        },
        "b4482eb1d43045cd971d3761a92c00fc": {
          "model_module": "@jupyter-widgets/controls",
          "model_name": "DescriptionStyleModel",
          "model_module_version": "1.5.0",
          "state": {
            "_model_module": "@jupyter-widgets/controls",
            "_model_module_version": "1.5.0",
            "_model_name": "DescriptionStyleModel",
            "_view_count": null,
            "_view_module": "@jupyter-widgets/base",
            "_view_module_version": "1.2.0",
            "_view_name": "StyleView",
            "description_width": ""
          }
        },
        "cd24307b7f4f44029932884993dbcd3f": {
          "model_module": "@jupyter-widgets/controls",
          "model_name": "HBoxModel",
          "model_module_version": "1.5.0",
          "state": {
            "_dom_classes": [],
            "_model_module": "@jupyter-widgets/controls",
            "_model_module_version": "1.5.0",
            "_model_name": "HBoxModel",
            "_view_count": null,
            "_view_module": "@jupyter-widgets/controls",
            "_view_module_version": "1.5.0",
            "_view_name": "HBoxView",
            "box_style": "",
            "children": [
              "IPY_MODEL_51378b942a714ebda0f0b2a93616979d",
              "IPY_MODEL_261fe67b4b954b8f916e78edf2b75318",
              "IPY_MODEL_c6ec83db07dd4bc4b140c9c763d547e5"
            ],
            "layout": "IPY_MODEL_01cc57bda3764e8ab3a34512dbe602df"
          }
        },
        "51378b942a714ebda0f0b2a93616979d": {
          "model_module": "@jupyter-widgets/controls",
          "model_name": "HTMLModel",
          "model_module_version": "1.5.0",
          "state": {
            "_dom_classes": [],
            "_model_module": "@jupyter-widgets/controls",
            "_model_module_version": "1.5.0",
            "_model_name": "HTMLModel",
            "_view_count": null,
            "_view_module": "@jupyter-widgets/controls",
            "_view_module_version": "1.5.0",
            "_view_name": "HTMLView",
            "description": "",
            "description_tooltip": null,
            "layout": "IPY_MODEL_b5d51c0d508242b8939da996fb7f5219",
            "placeholder": "​",
            "style": "IPY_MODEL_d4e11b3eb07043cc8f01eb542e6ebd3a",
            "value": "100%"
          }
        },
        "261fe67b4b954b8f916e78edf2b75318": {
          "model_module": "@jupyter-widgets/controls",
          "model_name": "FloatProgressModel",
          "model_module_version": "1.5.0",
          "state": {
            "_dom_classes": [],
            "_model_module": "@jupyter-widgets/controls",
            "_model_module_version": "1.5.0",
            "_model_name": "FloatProgressModel",
            "_view_count": null,
            "_view_module": "@jupyter-widgets/controls",
            "_view_module_version": "1.5.0",
            "_view_name": "ProgressView",
            "bar_style": "success",
            "description": "",
            "description_tooltip": null,
            "layout": "IPY_MODEL_b32221ef642f413584181e825d5eb0a1",
            "max": 250,
            "min": 0,
            "orientation": "horizontal",
            "style": "IPY_MODEL_3e173c67c80d40f98c6f7369e89d03ed",
            "value": 250
          }
        },
        "c6ec83db07dd4bc4b140c9c763d547e5": {
          "model_module": "@jupyter-widgets/controls",
          "model_name": "HTMLModel",
          "model_module_version": "1.5.0",
          "state": {
            "_dom_classes": [],
            "_model_module": "@jupyter-widgets/controls",
            "_model_module_version": "1.5.0",
            "_model_name": "HTMLModel",
            "_view_count": null,
            "_view_module": "@jupyter-widgets/controls",
            "_view_module_version": "1.5.0",
            "_view_name": "HTMLView",
            "description": "",
            "description_tooltip": null,
            "layout": "IPY_MODEL_11ab166356154cebac5fc7ed2c1a0e26",
            "placeholder": "​",
            "style": "IPY_MODEL_9c83c78955794b1fa30e1976a756f557",
            "value": " 250/250 [00:09&lt;00:00, 27.81it/s]"
          }
        },
        "01cc57bda3764e8ab3a34512dbe602df": {
          "model_module": "@jupyter-widgets/base",
          "model_name": "LayoutModel",
          "model_module_version": "1.2.0",
          "state": {
            "_model_module": "@jupyter-widgets/base",
            "_model_module_version": "1.2.0",
            "_model_name": "LayoutModel",
            "_view_count": null,
            "_view_module": "@jupyter-widgets/base",
            "_view_module_version": "1.2.0",
            "_view_name": "LayoutView",
            "align_content": null,
            "align_items": null,
            "align_self": null,
            "border": null,
            "bottom": null,
            "display": null,
            "flex": null,
            "flex_flow": null,
            "grid_area": null,
            "grid_auto_columns": null,
            "grid_auto_flow": null,
            "grid_auto_rows": null,
            "grid_column": null,
            "grid_gap": null,
            "grid_row": null,
            "grid_template_areas": null,
            "grid_template_columns": null,
            "grid_template_rows": null,
            "height": null,
            "justify_content": null,
            "justify_items": null,
            "left": null,
            "margin": null,
            "max_height": null,
            "max_width": null,
            "min_height": null,
            "min_width": null,
            "object_fit": null,
            "object_position": null,
            "order": null,
            "overflow": null,
            "overflow_x": null,
            "overflow_y": null,
            "padding": null,
            "right": null,
            "top": null,
            "visibility": null,
            "width": null
          }
        },
        "b5d51c0d508242b8939da996fb7f5219": {
          "model_module": "@jupyter-widgets/base",
          "model_name": "LayoutModel",
          "model_module_version": "1.2.0",
          "state": {
            "_model_module": "@jupyter-widgets/base",
            "_model_module_version": "1.2.0",
            "_model_name": "LayoutModel",
            "_view_count": null,
            "_view_module": "@jupyter-widgets/base",
            "_view_module_version": "1.2.0",
            "_view_name": "LayoutView",
            "align_content": null,
            "align_items": null,
            "align_self": null,
            "border": null,
            "bottom": null,
            "display": null,
            "flex": null,
            "flex_flow": null,
            "grid_area": null,
            "grid_auto_columns": null,
            "grid_auto_flow": null,
            "grid_auto_rows": null,
            "grid_column": null,
            "grid_gap": null,
            "grid_row": null,
            "grid_template_areas": null,
            "grid_template_columns": null,
            "grid_template_rows": null,
            "height": null,
            "justify_content": null,
            "justify_items": null,
            "left": null,
            "margin": null,
            "max_height": null,
            "max_width": null,
            "min_height": null,
            "min_width": null,
            "object_fit": null,
            "object_position": null,
            "order": null,
            "overflow": null,
            "overflow_x": null,
            "overflow_y": null,
            "padding": null,
            "right": null,
            "top": null,
            "visibility": null,
            "width": null
          }
        },
        "d4e11b3eb07043cc8f01eb542e6ebd3a": {
          "model_module": "@jupyter-widgets/controls",
          "model_name": "DescriptionStyleModel",
          "model_module_version": "1.5.0",
          "state": {
            "_model_module": "@jupyter-widgets/controls",
            "_model_module_version": "1.5.0",
            "_model_name": "DescriptionStyleModel",
            "_view_count": null,
            "_view_module": "@jupyter-widgets/base",
            "_view_module_version": "1.2.0",
            "_view_name": "StyleView",
            "description_width": ""
          }
        },
        "b32221ef642f413584181e825d5eb0a1": {
          "model_module": "@jupyter-widgets/base",
          "model_name": "LayoutModel",
          "model_module_version": "1.2.0",
          "state": {
            "_model_module": "@jupyter-widgets/base",
            "_model_module_version": "1.2.0",
            "_model_name": "LayoutModel",
            "_view_count": null,
            "_view_module": "@jupyter-widgets/base",
            "_view_module_version": "1.2.0",
            "_view_name": "LayoutView",
            "align_content": null,
            "align_items": null,
            "align_self": null,
            "border": null,
            "bottom": null,
            "display": null,
            "flex": null,
            "flex_flow": null,
            "grid_area": null,
            "grid_auto_columns": null,
            "grid_auto_flow": null,
            "grid_auto_rows": null,
            "grid_column": null,
            "grid_gap": null,
            "grid_row": null,
            "grid_template_areas": null,
            "grid_template_columns": null,
            "grid_template_rows": null,
            "height": null,
            "justify_content": null,
            "justify_items": null,
            "left": null,
            "margin": null,
            "max_height": null,
            "max_width": null,
            "min_height": null,
            "min_width": null,
            "object_fit": null,
            "object_position": null,
            "order": null,
            "overflow": null,
            "overflow_x": null,
            "overflow_y": null,
            "padding": null,
            "right": null,
            "top": null,
            "visibility": null,
            "width": null
          }
        },
        "3e173c67c80d40f98c6f7369e89d03ed": {
          "model_module": "@jupyter-widgets/controls",
          "model_name": "ProgressStyleModel",
          "model_module_version": "1.5.0",
          "state": {
            "_model_module": "@jupyter-widgets/controls",
            "_model_module_version": "1.5.0",
            "_model_name": "ProgressStyleModel",
            "_view_count": null,
            "_view_module": "@jupyter-widgets/base",
            "_view_module_version": "1.2.0",
            "_view_name": "StyleView",
            "bar_color": null,
            "description_width": ""
          }
        },
        "11ab166356154cebac5fc7ed2c1a0e26": {
          "model_module": "@jupyter-widgets/base",
          "model_name": "LayoutModel",
          "model_module_version": "1.2.0",
          "state": {
            "_model_module": "@jupyter-widgets/base",
            "_model_module_version": "1.2.0",
            "_model_name": "LayoutModel",
            "_view_count": null,
            "_view_module": "@jupyter-widgets/base",
            "_view_module_version": "1.2.0",
            "_view_name": "LayoutView",
            "align_content": null,
            "align_items": null,
            "align_self": null,
            "border": null,
            "bottom": null,
            "display": null,
            "flex": null,
            "flex_flow": null,
            "grid_area": null,
            "grid_auto_columns": null,
            "grid_auto_flow": null,
            "grid_auto_rows": null,
            "grid_column": null,
            "grid_gap": null,
            "grid_row": null,
            "grid_template_areas": null,
            "grid_template_columns": null,
            "grid_template_rows": null,
            "height": null,
            "justify_content": null,
            "justify_items": null,
            "left": null,
            "margin": null,
            "max_height": null,
            "max_width": null,
            "min_height": null,
            "min_width": null,
            "object_fit": null,
            "object_position": null,
            "order": null,
            "overflow": null,
            "overflow_x": null,
            "overflow_y": null,
            "padding": null,
            "right": null,
            "top": null,
            "visibility": null,
            "width": null
          }
        },
        "9c83c78955794b1fa30e1976a756f557": {
          "model_module": "@jupyter-widgets/controls",
          "model_name": "DescriptionStyleModel",
          "model_module_version": "1.5.0",
          "state": {
            "_model_module": "@jupyter-widgets/controls",
            "_model_module_version": "1.5.0",
            "_model_name": "DescriptionStyleModel",
            "_view_count": null,
            "_view_module": "@jupyter-widgets/base",
            "_view_module_version": "1.2.0",
            "_view_name": "StyleView",
            "description_width": ""
          }
        }
      }
    }
  },
  "nbformat": 4,
  "nbformat_minor": 0
}