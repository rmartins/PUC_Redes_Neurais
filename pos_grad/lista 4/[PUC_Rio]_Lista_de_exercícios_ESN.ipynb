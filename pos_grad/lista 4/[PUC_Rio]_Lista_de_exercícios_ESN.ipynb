{
  "cells": [
    {
      "cell_type": "markdown",
      "metadata": {
        "id": "IzsgHE3YZ1Dg"
      },
      "source": [
        "## PUC-Rio\n",
        "### Departamento de Engenharia Elétrica\n",
        "\n",
        "\n",
        "### Lista de Exercícios - Echo State Network"
      ]
    },
    {
      "cell_type": "markdown",
      "metadata": {
        "id": "8K8QhGsBZ1El"
      },
      "source": [
        "Nesta lista de exercícios, iremos avaliar o uso de Echo State Network para previsão de séries temporais (ou identificação de sistemas).\n",
        "\n",
        "Não esqueça que a ESN é **bastante** dependente da inicialização do modelo, visto que parte dos pesos **não** são aprendidos. Portanto, não esqueça de rodar uma quantidade razoável de vezes o modelo para cada item, de modo a ter uma avaliação mais confiável"
      ]
    },
    {
      "cell_type": "markdown",
      "source": [
        "1. Escolha uma base de dados presente em https://homes.esat.kuleuven.be/~smc/daisy/daisydata.html (conforme visto em sala de aula) ou no repositório. Faça um gráfico de todas as variáveis do problema para avaliar a dinâmica de cada uma delas."
      ],
      "metadata": {
        "id": "B93cwGmLaAxd"
      }
    },
    {
      "cell_type": "code",
      "source": [],
      "metadata": {
        "id": "HlIRGAj6aXu_"
      },
      "execution_count": null,
      "outputs": []
    },
    {
      "cell_type": "markdown",
      "source": [
        "2. Rode o modelo ESN com uma configuração inicial de hiperparâmetros. Justifique a escolha de cada uma delas."
      ],
      "metadata": {
        "id": "ByGCPdI5aXO7"
      }
    },
    {
      "cell_type": "code",
      "source": [],
      "metadata": {
        "id": "Z7HpfMNlayMy"
      },
      "execution_count": null,
      "outputs": []
    },
    {
      "cell_type": "markdown",
      "source": [
        "3. Modifique o tamanho do reservatório e avalie o resultado dessa mudança. De que forma a alteração dos pesos pode impactar no resultado final?"
      ],
      "metadata": {
        "id": "KLW2Iaapayrx"
      }
    },
    {
      "cell_type": "code",
      "source": [],
      "metadata": {
        "id": "qlVgpJ_abdx9"
      },
      "execution_count": null,
      "outputs": []
    },
    {
      "cell_type": "markdown",
      "source": [
        "4. Modifique o parâmetro de **leaking rate** e avalie o resultado dessa mudança. De que forma a alteração desse hiperparâmetro pode impactar no resultado final?"
      ],
      "metadata": {
        "id": "wbO3MLpNbeZp"
      }
    },
    {
      "cell_type": "code",
      "source": [],
      "metadata": {
        "id": "WDewzUAfbpq0"
      },
      "execution_count": null,
      "outputs": []
    },
    {
      "cell_type": "markdown",
      "source": [
        "5. Modifique o parâmetro de **esparsidade** e avalie o resultado dessa mudança. De que forma a alteração do volume de conexões pode impactar no resultado final?"
      ],
      "metadata": {
        "id": "b1_zqf_CbqIN"
      }
    },
    {
      "cell_type": "code",
      "source": [],
      "metadata": {
        "id": "vX0zZdlobsf1"
      },
      "execution_count": null,
      "outputs": []
    },
    {
      "cell_type": "markdown",
      "source": [
        "6. Modifique o parâmetro de **tempo de washout** e avalie o resultado dessa mudança. De que forma esta pode impactar no resultado final?"
      ],
      "metadata": {
        "id": "cwMzRB_Vbyhp"
      }
    },
    {
      "cell_type": "code",
      "source": [],
      "metadata": {
        "id": "AdwRT0X_K-7l"
      },
      "execution_count": null,
      "outputs": []
    }
  ],
  "metadata": {
    "kernelspec": {
      "display_name": "Python 3",
      "language": "python",
      "name": "python3"
    },
    "language_info": {
      "codemirror_mode": {
        "name": "ipython",
        "version": 3
      },
      "file_extension": ".py",
      "mimetype": "text/x-python",
      "name": "python",
      "nbconvert_exporter": "python",
      "pygments_lexer": "ipython3",
      "version": "3.10.4"
    },
    "orig_nbformat": 4,
    "colab": {
      "provenance": []
    }
  },
  "nbformat": 4,
  "nbformat_minor": 0
}